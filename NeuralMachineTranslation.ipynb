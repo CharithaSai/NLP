{
  "nbformat": 4,
  "nbformat_minor": 0,
  "metadata": {
    "colab": {
      "name": "NeuralMachineTranslation.ipynb",
      "provenance": [],
      "collapsed_sections": []
    },
    "kernelspec": {
      "name": "python3",
      "display_name": "Python 3"
    },
    "language_info": {
      "name": "python"
    }
  },
  "cells": [
    {
      "cell_type": "markdown",
      "metadata": {
        "id": "Ee_hdS-FPWQz"
      },
      "source": [
        "# Importing Required Libraries"
      ]
    },
    {
      "cell_type": "code",
      "metadata": {
        "id": "5xujfp4mPVV1"
      },
      "source": [
        "import torch\n",
        "from torchtext.data.metrics import bleu_score\n",
        "import torch.nn as nn\n",
        "import torch.optim as optim\n",
        "import torchtext\n",
        "from torchtext.legacy.datasets import Multi30k\n",
        "from torchtext.legacy.data import Field, BucketIterator\n",
        "import numpy as np\n",
        "import random\n",
        "from torch.utils.tensorboard import SummaryWriter \n",
        "import spacy\n",
        "import time\n",
        "import sys"
      ],
      "execution_count": 31,
      "outputs": []
    },
    {
      "cell_type": "code",
      "metadata": {
        "id": "zq3S62g6DB9k"
      },
      "source": [
        "def translate_sentence(model, sentence, german, english, device, max_length=50):\n",
        "    spacy_ger = spacy.load(\"de\")\n",
        "\n",
        "    if type(sentence) == str:\n",
        "        tokens = [token.text.lower() for token in spacy_ger(sentence)]\n",
        "    else:\n",
        "        tokens = [token.lower() for token in sentence]\n",
        "    tokens.insert(0, german.init_token)\n",
        "    tokens.append(german.eos_token)\n",
        "    text_to_indices = [german.vocab.stoi[token] for token in tokens]\n",
        "    sentence_tensor = torch.LongTensor(text_to_indices).unsqueeze(1).to(device)\n",
        "    with torch.no_grad():\n",
        "        hidden, cell = model.encoder(sentence_tensor)\n",
        "\n",
        "    outputs = [english.vocab.stoi[\"<sos>\"]]\n",
        "\n",
        "    for _ in range(max_length):\n",
        "        previous_word = torch.LongTensor([outputs[-1]]).to(device)\n",
        "\n",
        "        with torch.no_grad():\n",
        "            output, hidden, cell = model.decoder(previous_word, hidden, cell)\n",
        "            best_guess = output.argmax(1).item()\n",
        "\n",
        "        outputs.append(best_guess)\n",
        "        if output.argmax(1).item() == english.vocab.stoi[\"<eos>\"]:\n",
        "            break\n",
        "\n",
        "    translated_sentence = [english.vocab.itos[idx] for idx in outputs]\n",
        "    return translated_sentence[1:]\n",
        "\n"
      ],
      "execution_count": 20,
      "outputs": []
    },
    {
      "cell_type": "code",
      "metadata": {
        "id": "TlRorSxoComg"
      },
      "source": [
        "\n",
        "def bleu(data, model, german, english, device):\n",
        "    targets = []\n",
        "    outputs = []\n",
        "\n",
        "    for example in data:\n",
        "        src = vars(example)[\"src\"]\n",
        "        trg = vars(example)[\"trg\"]\n",
        "\n",
        "        prediction = translate_sentence(model, src, german, english, device)\n",
        "        prediction = prediction[:-1]  # remove <eos> token\n",
        "\n",
        "        targets.append([trg])\n",
        "        outputs.append(prediction)\n",
        "\n",
        "    return bleu_score(outputs, targets)\n"
      ],
      "execution_count": 21,
      "outputs": []
    },
    {
      "cell_type": "code",
      "metadata": {
        "id": "85k1gvA7Cqc5"
      },
      "source": [
        "def save_checkpoint(state, filename=\"my_checkpoint.pth.tar\"):\n",
        "    print(\"=> Saving checkpoint\")\n",
        "    torch.save(state, filename)\n"
      ],
      "execution_count": 22,
      "outputs": []
    },
    {
      "cell_type": "code",
      "metadata": {
        "id": "OMcs7kCECqh1"
      },
      "source": [
        "def load_checkpoint(checkpoint, model, optimizer):\n",
        "    print(\"=> Loading checkpoint\")\n",
        "    model.load_state_dict(checkpoint[\"state_dict\"])\n",
        "    optimizer.load_state_dict(checkpoint[\"optimizer\"])"
      ],
      "execution_count": 23,
      "outputs": []
    },
    {
      "cell_type": "code",
      "metadata": {
        "colab": {
          "base_uri": "https://localhost:8080/"
        },
        "id": "sk1oF_efCqm5",
        "outputId": "a4daa980-d942-4af2-9766-1297309de3d0"
      },
      "source": [
        "!python -m spacy download en"
      ],
      "execution_count": 25,
      "outputs": [
        {
          "output_type": "stream",
          "text": [
            "Requirement already satisfied: en_core_web_sm==2.2.5 from https://github.com/explosion/spacy-models/releases/download/en_core_web_sm-2.2.5/en_core_web_sm-2.2.5.tar.gz#egg=en_core_web_sm==2.2.5 in /usr/local/lib/python3.7/dist-packages (2.2.5)\n",
            "Requirement already satisfied: spacy>=2.2.2 in /usr/local/lib/python3.7/dist-packages (from en_core_web_sm==2.2.5) (2.2.4)\n",
            "Requirement already satisfied: srsly<1.1.0,>=1.0.2 in /usr/local/lib/python3.7/dist-packages (from spacy>=2.2.2->en_core_web_sm==2.2.5) (1.0.5)\n",
            "Requirement already satisfied: tqdm<5.0.0,>=4.38.0 in /usr/local/lib/python3.7/dist-packages (from spacy>=2.2.2->en_core_web_sm==2.2.5) (4.41.1)\n",
            "Requirement already satisfied: requests<3.0.0,>=2.13.0 in /usr/local/lib/python3.7/dist-packages (from spacy>=2.2.2->en_core_web_sm==2.2.5) (2.23.0)\n",
            "Requirement already satisfied: blis<0.5.0,>=0.4.0 in /usr/local/lib/python3.7/dist-packages (from spacy>=2.2.2->en_core_web_sm==2.2.5) (0.4.1)\n",
            "Requirement already satisfied: preshed<3.1.0,>=3.0.2 in /usr/local/lib/python3.7/dist-packages (from spacy>=2.2.2->en_core_web_sm==2.2.5) (3.0.5)\n",
            "Requirement already satisfied: wasabi<1.1.0,>=0.4.0 in /usr/local/lib/python3.7/dist-packages (from spacy>=2.2.2->en_core_web_sm==2.2.5) (0.8.2)\n",
            "Requirement already satisfied: setuptools in /usr/local/lib/python3.7/dist-packages (from spacy>=2.2.2->en_core_web_sm==2.2.5) (54.2.0)\n",
            "Requirement already satisfied: catalogue<1.1.0,>=0.0.7 in /usr/local/lib/python3.7/dist-packages (from spacy>=2.2.2->en_core_web_sm==2.2.5) (1.0.0)\n",
            "Requirement already satisfied: plac<1.2.0,>=0.9.6 in /usr/local/lib/python3.7/dist-packages (from spacy>=2.2.2->en_core_web_sm==2.2.5) (1.1.3)\n",
            "Requirement already satisfied: cymem<2.1.0,>=2.0.2 in /usr/local/lib/python3.7/dist-packages (from spacy>=2.2.2->en_core_web_sm==2.2.5) (2.0.5)\n",
            "Requirement already satisfied: murmurhash<1.1.0,>=0.28.0 in /usr/local/lib/python3.7/dist-packages (from spacy>=2.2.2->en_core_web_sm==2.2.5) (1.0.5)\n",
            "Requirement already satisfied: thinc==7.4.0 in /usr/local/lib/python3.7/dist-packages (from spacy>=2.2.2->en_core_web_sm==2.2.5) (7.4.0)\n",
            "Requirement already satisfied: numpy>=1.15.0 in /usr/local/lib/python3.7/dist-packages (from spacy>=2.2.2->en_core_web_sm==2.2.5) (1.19.5)\n",
            "Requirement already satisfied: urllib3!=1.25.0,!=1.25.1,<1.26,>=1.21.1 in /usr/local/lib/python3.7/dist-packages (from requests<3.0.0,>=2.13.0->spacy>=2.2.2->en_core_web_sm==2.2.5) (1.24.3)\n",
            "Requirement already satisfied: idna<3,>=2.5 in /usr/local/lib/python3.7/dist-packages (from requests<3.0.0,>=2.13.0->spacy>=2.2.2->en_core_web_sm==2.2.5) (2.10)\n",
            "Requirement already satisfied: chardet<4,>=3.0.2 in /usr/local/lib/python3.7/dist-packages (from requests<3.0.0,>=2.13.0->spacy>=2.2.2->en_core_web_sm==2.2.5) (3.0.4)\n",
            "Requirement already satisfied: certifi>=2017.4.17 in /usr/local/lib/python3.7/dist-packages (from requests<3.0.0,>=2.13.0->spacy>=2.2.2->en_core_web_sm==2.2.5) (2020.12.5)\n",
            "Requirement already satisfied: importlib-metadata>=0.20; python_version < \"3.8\" in /usr/local/lib/python3.7/dist-packages (from catalogue<1.1.0,>=0.0.7->spacy>=2.2.2->en_core_web_sm==2.2.5) (3.10.1)\n",
            "Requirement already satisfied: zipp>=0.5 in /usr/local/lib/python3.7/dist-packages (from importlib-metadata>=0.20; python_version < \"3.8\"->catalogue<1.1.0,>=0.0.7->spacy>=2.2.2->en_core_web_sm==2.2.5) (3.4.1)\n",
            "Requirement already satisfied: typing-extensions>=3.6.4; python_version < \"3.8\" in /usr/local/lib/python3.7/dist-packages (from importlib-metadata>=0.20; python_version < \"3.8\"->catalogue<1.1.0,>=0.0.7->spacy>=2.2.2->en_core_web_sm==2.2.5) (3.7.4.3)\n",
            "\u001b[38;5;2m✔ Download and installation successful\u001b[0m\n",
            "You can now load the model via spacy.load('en_core_web_sm')\n",
            "\u001b[38;5;2m✔ Linking successful\u001b[0m\n",
            "/usr/local/lib/python3.7/dist-packages/en_core_web_sm -->\n",
            "/usr/local/lib/python3.7/dist-packages/spacy/data/en\n",
            "You can now load the model via spacy.load('en')\n"
          ],
          "name": "stdout"
        }
      ]
    },
    {
      "cell_type": "code",
      "metadata": {
        "colab": {
          "base_uri": "https://localhost:8080/"
        },
        "id": "6qUQi9fTCqok",
        "outputId": "2b01c510-1bcc-4833-9e1e-03fca39ecca9"
      },
      "source": [
        "!python -m spacy download de"
      ],
      "execution_count": 26,
      "outputs": [
        {
          "output_type": "stream",
          "text": [
            "Requirement already satisfied: de_core_news_sm==2.2.5 from https://github.com/explosion/spacy-models/releases/download/de_core_news_sm-2.2.5/de_core_news_sm-2.2.5.tar.gz#egg=de_core_news_sm==2.2.5 in /usr/local/lib/python3.7/dist-packages (2.2.5)\n",
            "Requirement already satisfied: spacy>=2.2.2 in /usr/local/lib/python3.7/dist-packages (from de_core_news_sm==2.2.5) (2.2.4)\n",
            "Requirement already satisfied: preshed<3.1.0,>=3.0.2 in /usr/local/lib/python3.7/dist-packages (from spacy>=2.2.2->de_core_news_sm==2.2.5) (3.0.5)\n",
            "Requirement already satisfied: blis<0.5.0,>=0.4.0 in /usr/local/lib/python3.7/dist-packages (from spacy>=2.2.2->de_core_news_sm==2.2.5) (0.4.1)\n",
            "Requirement already satisfied: thinc==7.4.0 in /usr/local/lib/python3.7/dist-packages (from spacy>=2.2.2->de_core_news_sm==2.2.5) (7.4.0)\n",
            "Requirement already satisfied: cymem<2.1.0,>=2.0.2 in /usr/local/lib/python3.7/dist-packages (from spacy>=2.2.2->de_core_news_sm==2.2.5) (2.0.5)\n",
            "Requirement already satisfied: setuptools in /usr/local/lib/python3.7/dist-packages (from spacy>=2.2.2->de_core_news_sm==2.2.5) (54.2.0)\n",
            "Requirement already satisfied: murmurhash<1.1.0,>=0.28.0 in /usr/local/lib/python3.7/dist-packages (from spacy>=2.2.2->de_core_news_sm==2.2.5) (1.0.5)\n",
            "Requirement already satisfied: wasabi<1.1.0,>=0.4.0 in /usr/local/lib/python3.7/dist-packages (from spacy>=2.2.2->de_core_news_sm==2.2.5) (0.8.2)\n",
            "Requirement already satisfied: plac<1.2.0,>=0.9.6 in /usr/local/lib/python3.7/dist-packages (from spacy>=2.2.2->de_core_news_sm==2.2.5) (1.1.3)\n",
            "Requirement already satisfied: catalogue<1.1.0,>=0.0.7 in /usr/local/lib/python3.7/dist-packages (from spacy>=2.2.2->de_core_news_sm==2.2.5) (1.0.0)\n",
            "Requirement already satisfied: srsly<1.1.0,>=1.0.2 in /usr/local/lib/python3.7/dist-packages (from spacy>=2.2.2->de_core_news_sm==2.2.5) (1.0.5)\n",
            "Requirement already satisfied: requests<3.0.0,>=2.13.0 in /usr/local/lib/python3.7/dist-packages (from spacy>=2.2.2->de_core_news_sm==2.2.5) (2.23.0)\n",
            "Requirement already satisfied: tqdm<5.0.0,>=4.38.0 in /usr/local/lib/python3.7/dist-packages (from spacy>=2.2.2->de_core_news_sm==2.2.5) (4.41.1)\n",
            "Requirement already satisfied: numpy>=1.15.0 in /usr/local/lib/python3.7/dist-packages (from spacy>=2.2.2->de_core_news_sm==2.2.5) (1.19.5)\n",
            "Requirement already satisfied: importlib-metadata>=0.20; python_version < \"3.8\" in /usr/local/lib/python3.7/dist-packages (from catalogue<1.1.0,>=0.0.7->spacy>=2.2.2->de_core_news_sm==2.2.5) (3.10.1)\n",
            "Requirement already satisfied: chardet<4,>=3.0.2 in /usr/local/lib/python3.7/dist-packages (from requests<3.0.0,>=2.13.0->spacy>=2.2.2->de_core_news_sm==2.2.5) (3.0.4)\n",
            "Requirement already satisfied: urllib3!=1.25.0,!=1.25.1,<1.26,>=1.21.1 in /usr/local/lib/python3.7/dist-packages (from requests<3.0.0,>=2.13.0->spacy>=2.2.2->de_core_news_sm==2.2.5) (1.24.3)\n",
            "Requirement already satisfied: certifi>=2017.4.17 in /usr/local/lib/python3.7/dist-packages (from requests<3.0.0,>=2.13.0->spacy>=2.2.2->de_core_news_sm==2.2.5) (2020.12.5)\n",
            "Requirement already satisfied: idna<3,>=2.5 in /usr/local/lib/python3.7/dist-packages (from requests<3.0.0,>=2.13.0->spacy>=2.2.2->de_core_news_sm==2.2.5) (2.10)\n",
            "Requirement already satisfied: typing-extensions>=3.6.4; python_version < \"3.8\" in /usr/local/lib/python3.7/dist-packages (from importlib-metadata>=0.20; python_version < \"3.8\"->catalogue<1.1.0,>=0.0.7->spacy>=2.2.2->de_core_news_sm==2.2.5) (3.7.4.3)\n",
            "Requirement already satisfied: zipp>=0.5 in /usr/local/lib/python3.7/dist-packages (from importlib-metadata>=0.20; python_version < \"3.8\"->catalogue<1.1.0,>=0.0.7->spacy>=2.2.2->de_core_news_sm==2.2.5) (3.4.1)\n",
            "\u001b[38;5;2m✔ Download and installation successful\u001b[0m\n",
            "You can now load the model via spacy.load('de_core_news_sm')\n",
            "\u001b[38;5;2m✔ Linking successful\u001b[0m\n",
            "/usr/local/lib/python3.7/dist-packages/de_core_news_sm -->\n",
            "/usr/local/lib/python3.7/dist-packages/spacy/data/de\n",
            "You can now load the model via spacy.load('de')\n"
          ],
          "name": "stdout"
        }
      ]
    },
    {
      "cell_type": "markdown",
      "metadata": {
        "id": "XazFK5xvPioA"
      },
      "source": [
        "# Loading and pre-processing the data"
      ]
    },
    {
      "cell_type": "code",
      "metadata": {
        "id": "2r9YS9bODZc7"
      },
      "source": [
        "spacy_ger = spacy.load(\"de\")\n",
        "spacy_eng = spacy.load(\"en\")"
      ],
      "execution_count": 27,
      "outputs": []
    },
    {
      "cell_type": "code",
      "metadata": {
        "id": "hVJHVA-iDZed"
      },
      "source": [
        "def tokenize_ger(text):\n",
        "    return [tok.text for tok in spacy_ger.tokenizer(text)]\n",
        "\n",
        "\n",
        "def tokenize_eng(text):\n",
        "    return [tok.text for tok in spacy_eng.tokenizer(text)]\n"
      ],
      "execution_count": 28,
      "outputs": []
    },
    {
      "cell_type": "code",
      "metadata": {
        "id": "_lXdvUdrDh1W"
      },
      "source": [
        "german = Field(tokenize=tokenize_ger, lower=True, init_token=\"<sos>\", eos_token=\"<eos>\")\n",
        "\n",
        "english = Field(\n",
        "    tokenize=tokenize_eng, lower=True, init_token=\"<sos>\", eos_token=\"<eos>\"\n",
        ")\n",
        "\n",
        "train_data, valid_data, test_data = Multi30k.splits(\n",
        "    exts=(\".de\", \".en\"), fields=(german, english)\n",
        ")\n",
        "\n",
        "german.build_vocab(train_data, max_size=10000, min_freq=2)\n",
        "english.build_vocab(train_data, max_size=10000, min_freq=2)"
      ],
      "execution_count": null,
      "outputs": []
    },
    {
      "cell_type": "markdown",
      "metadata": {
        "id": "9QKA7S9qPsLE"
      },
      "source": [
        "# Implementing Seq2Seq LSTM model"
      ]
    },
    {
      "cell_type": "code",
      "metadata": {
        "id": "h080xEi3DlfY"
      },
      "source": [
        "class Encoder(nn.Module):\n",
        "    def __init__(self, input_size, embedding_size, hidden_size, num_layers, p):\n",
        "        super(Encoder, self).__init__()\n",
        "        self.dropout = nn.Dropout(p)\n",
        "        self.hidden_size = hidden_size\n",
        "        self.num_layers = num_layers\n",
        "\n",
        "        self.embedding = nn.Embedding(input_size, embedding_size)\n",
        "        self.rnn = nn.LSTM(embedding_size, hidden_size, num_layers, dropout=p)\n",
        "\n",
        "    def forward(self, x):\n",
        "      \n",
        "\n",
        "        embedding = self.dropout(self.embedding(x))\n",
        "       \n",
        "\n",
        "        outputs, (hidden, cell) = self.rnn(embedding)\n",
        "        \n",
        "\n",
        "        return hidden, cell"
      ],
      "execution_count": null,
      "outputs": []
    },
    {
      "cell_type": "code",
      "metadata": {
        "id": "Cfz_vLSqDpc2"
      },
      "source": [
        "class Decoder(nn.Module):\n",
        "    def __init__(\n",
        "        self, input_size, embedding_size, hidden_size, output_size, num_layers, p\n",
        "    ):\n",
        "        super(Decoder, self).__init__()\n",
        "        self.dropout = nn.Dropout(p)\n",
        "        self.hidden_size = hidden_size\n",
        "        self.num_layers = num_layers\n",
        "\n",
        "        self.embedding = nn.Embedding(input_size, embedding_size)\n",
        "        self.rnn = nn.LSTM(embedding_size, hidden_size, num_layers, dropout=p)\n",
        "        self.fc = nn.Linear(hidden_size, output_size)\n",
        "\n",
        "    def forward(self, x, hidden, cell):\n",
        "        \n",
        "        x = x.unsqueeze(0)\n",
        "\n",
        "        embedding = self.dropout(self.embedding(x))\n",
        "\n",
        "        outputs, (hidden, cell) = self.rnn(embedding, (hidden, cell))\n",
        "        \n",
        "        predictions = self.fc(outputs)\n",
        "\n",
        "        predictions = predictions.squeeze(0)\n",
        "\n",
        "        return predictions, hidden, cell"
      ],
      "execution_count": null,
      "outputs": []
    },
    {
      "cell_type": "code",
      "metadata": {
        "id": "YuU0T3KgDt3z"
      },
      "source": [
        "class Seq2Seq(nn.Module):\n",
        "    def __init__(self, encoder, decoder):\n",
        "        super(Seq2Seq, self).__init__()\n",
        "        self.encoder = encoder\n",
        "        self.decoder = decoder\n",
        "\n",
        "    def forward(self, source, target, teacher_force_ratio=0.5):\n",
        "        batch_size = source.shape[1]\n",
        "        target_len = target.shape[0]\n",
        "        target_vocab_size = len(english.vocab)\n",
        "\n",
        "        outputs = torch.zeros(target_len, batch_size, target_vocab_size).to(device)\n",
        "\n",
        "        hidden, cell = self.encoder(source)\n",
        "\n",
        "        x = target[0]\n",
        "\n",
        "        for t in range(1, target_len):\n",
        "            output, hidden, cell = self.decoder(x, hidden, cell)\n",
        "\n",
        "            outputs[t] = output\n",
        "\n",
        "            best_guess = output.argmax(1)\n",
        ".\n",
        "            x = target[t] if random.random() < teacher_force_ratio else best_guess\n",
        "\n",
        "        return outputs\n"
      ],
      "execution_count": null,
      "outputs": []
    },
    {
      "cell_type": "code",
      "metadata": {
        "id": "PeoITpyYCqsB"
      },
      "source": [
        "num_epochs = 1\n",
        "learning_rate = 3e-4\n",
        "batch_size = 64\n",
        "\n",
        "\n",
        "load_model = False\n",
        "device = torch.device(\"cuda\" if torch.cuda.is_available() else \"cpu\")\n",
        "input_size_encoder = len(german.vocab)\n",
        "input_size_decoder = len(english.vocab)\n",
        "output_size = len(english.vocab)\n",
        "encoder_embedding_size = 300\n",
        "decoder_embedding_size = 300\n",
        "hidden_size = 1024  \n",
        "num_layers = 2\n",
        "enc_dropout = 0.5\n",
        "dec_dropout = 0.5\n",
        "\n",
        "writer = SummaryWriter(f\"runs/loss_plot\")\n",
        "step = 0\n"
      ],
      "execution_count": null,
      "outputs": []
    },
    {
      "cell_type": "code",
      "metadata": {
        "id": "ObJ25_R3Cqti"
      },
      "source": [
        "train_iterator, valid_iterator, test_iterator = BucketIterator.splits(\n",
        "    (train_data, valid_data, test_data),\n",
        "    batch_size=batch_size,\n",
        "    sort_within_batch=True,\n",
        "    sort_key=lambda x: len(x.src),\n",
        "    device=device,\n",
        ")\n",
        "\n",
        "encoder_net = Encoder(\n",
        "    input_size_encoder, encoder_embedding_size, hidden_size, num_layers, enc_dropout\n",
        ").to(device)\n",
        "\n",
        "decoder_net = Decoder(\n",
        "    input_size_decoder,\n",
        "    decoder_embedding_size,\n",
        "    hidden_size,\n",
        "    output_size,\n",
        "    num_layers,\n",
        "    dec_dropout,\n",
        ").to(device)"
      ],
      "execution_count": null,
      "outputs": []
    },
    {
      "cell_type": "code",
      "metadata": {
        "id": "2JX4fv9_ENy2"
      },
      "source": [
        "\n",
        "sentence = \"eine mutter und ihr kleiner sohn genießen einen schönen tag im freien.\"\n"
      ],
      "execution_count": null,
      "outputs": []
    },
    {
      "cell_type": "code",
      "metadata": {
        "colab": {
          "base_uri": "https://localhost:8080/"
        },
        "id": "DohdkJVctVwx",
        "outputId": "a070390b-62d2-46b8-f9db-f37560291de0"
      },
      "source": [
        "start = time.time()\n",
        "\n",
        "model = Seq2Seq(encoder_net, decoder_net).to(device)\n",
        "optimizer = optim.Adam(model.parameters(), lr=learning_rate)\n",
        "\n",
        "\n",
        "pad_idx = english.vocab.stoi[\"<pad>\"]\n",
        "criterion = nn.CrossEntropyLoss(ignore_index=pad_idx)\n",
        "\n",
        "if load_model:\n",
        "    load_checkpoint(torch.load(\"my_checkpoint.pth.tar\"), model, optimizer)\n",
        "\n",
        "\n",
        "sentence = \"eine mutter und ihr kleiner sohn genießen einen schönen tag im freien.\"\n",
        "\n",
        "for epoch in range(num_epochs):\n",
        "    print(f\"[Epoch {epoch} / {num_epochs}]\")\n",
        "\n",
        "    checkpoint = {\"state_dict\": model.state_dict(), \"optimizer\": optimizer.state_dict()}\n",
        "    save_checkpoint(checkpoint)\n",
        "\n",
        "    model.eval()\n",
        "\n",
        "    translated_sentence = translate_sentence(\n",
        "        model, sentence, german, english, device, max_length=50\n",
        "    )\n",
        "\n",
        "    print(f\"Translated example sentence: \\n {translated_sentence}\")\n",
        "\n",
        "    model.train()\n",
        "\n",
        "    for batch_idx, batch in enumerate(train_iterator):\n",
        "        inp_data = batch.src.to(device)\n",
        "        target = batch.trg.to(device)\n",
        "\n",
        "        output = model(inp_data, target)\n",
        "\n",
        "        output = output[1:].reshape(-1, output.shape[2])\n",
        "        target = target[1:].reshape(-1)\n",
        "\n",
        "        optimizer.zero_grad()\n",
        "        loss = criterion(output, target)\n",
        "\n",
        "        loss.backward()\n",
        "\n",
        "        torch.nn.utils.clip_grad_norm_(model.parameters(), max_norm=1)\n",
        "\n",
        "        optimizer.step()\n",
        "        writer.add_scalar(\"Training loss\", loss, global_step=step)\n",
        "        step += 1\n",
        "\n",
        "\n",
        "score = bleu(test_data[1:100], model, german, english, device)\n",
        "print(f\"Bleu score {score*100:.2f}\")\n",
        "\n",
        "end = time.time()\n",
        "hours, rem = divmod(end-start, 3600)\n",
        "minutes, seconds = divmod(rem, 60)\n",
        "print(\"{:0>2}:{:0>2}:{:05.2f}\".format(int(hours),int(minutes),seconds))\n"
      ],
      "execution_count": null,
      "outputs": [
        {
          "output_type": "stream",
          "text": [
            "downloading training.tar.gz\n"
          ],
          "name": "stdout"
        },
        {
          "output_type": "stream",
          "text": [
            "training.tar.gz: 100%|██████████| 1.21M/1.21M [00:02<00:00, 570kB/s]\n"
          ],
          "name": "stderr"
        },
        {
          "output_type": "stream",
          "text": [
            "downloading validation.tar.gz\n"
          ],
          "name": "stdout"
        },
        {
          "output_type": "stream",
          "text": [
            "validation.tar.gz: 100%|██████████| 46.3k/46.3k [00:00<00:00, 173kB/s]\n"
          ],
          "name": "stderr"
        },
        {
          "output_type": "stream",
          "text": [
            "downloading mmt_task1_test2016.tar.gz\n"
          ],
          "name": "stdout"
        },
        {
          "output_type": "stream",
          "text": [
            "mmt_task1_test2016.tar.gz: 100%|██████████| 66.2k/66.2k [00:00<00:00, 160kB/s]\n"
          ],
          "name": "stderr"
        },
        {
          "output_type": "stream",
          "text": [
            "[Epoch 0 / 50]\n",
            "=> Saving checkpoint\n",
            "Translated example sentence: \n",
            " ['pressure', 'ally', 'ally', 'ally', 'bunches', 'threw', 'nintendo', 'shacking', 'studio', 'straight', 'straight', 'tilts', 'very', 'overcoat', 'overcoat', 'labor', 'striped', 'striped', 'striped', 'striped', 'threw', 'buckets', 'buckets', 'actors', 'him', 'carts', 'carts', 'doing', 'surfers', 'surfers', 'topless', 'forces', 'forces', 'tanned', 'casting', 'casting', 'reception', 'reception', 'fan', 'cape', 'cape', 'cape', 'cape', 'cape', 'sodas', 'sodas', 'adults', 'adults', 'graduation', 'graduation']\n",
            "[Epoch 1 / 50]\n",
            "=> Saving checkpoint\n",
            "Translated example sentence: \n",
            " ['a', 'young', 'boy', 'is', 'a', 'a', 'a', 'a', 'a', 'a', 'a', '.', '<eos>']\n",
            "[Epoch 2 / 50]\n",
            "=> Saving checkpoint\n",
            "Translated example sentence: \n",
            " ['a', 'mother', 'and', 'a', 'and', 'a', 'are', 'are', 'a', 'a', 'a', '.', '<eos>']\n",
            "[Epoch 3 / 50]\n",
            "=> Saving checkpoint\n",
            "Translated example sentence: \n",
            " ['a', 'mother', 'and', 'a', 'and', 'a', 'a', 'a', 'a', 'in', 'the', '.', '.', '<eos>']\n",
            "[Epoch 4 / 50]\n",
            "=> Saving checkpoint\n",
            "Translated example sentence: \n",
            " ['a', 'mother', 'and', 'her', 'daughter', 'are', 'walking', 'in', 'a', 'a', '.', '<eos>']\n",
            "[Epoch 5 / 50]\n",
            "=> Saving checkpoint\n",
            "Translated example sentence: \n",
            " ['a', 'mother', 'and', 'daughter', 'are', 'walking', 'a', 'a', 'a', 'a', 'a', '.', '<eos>']\n",
            "[Epoch 6 / 50]\n",
            "=> Saving checkpoint\n",
            "Translated example sentence: \n",
            " ['a', 'mother', 'and', 'her', 'daughter', 'are', 'a', 'a', 'in', 'a', 'a', '.', '.', '<eos>']\n",
            "[Epoch 7 / 50]\n",
            "=> Saving checkpoint\n",
            "Translated example sentence: \n",
            " ['a', 'mother', 'and', 'her', 'daughter', 'are', 'a', 'a', 'a', 'a', '.', '.', '<eos>']\n",
            "[Epoch 8 / 50]\n",
            "=> Saving checkpoint\n",
            "Translated example sentence: \n",
            " ['a', 'mom', 'and', 'her', 'son', 'enjoying', 'a', 'a', 'in', 'the', 'day', '.', '<eos>']\n",
            "[Epoch 9 / 50]\n",
            "=> Saving checkpoint\n",
            "Translated example sentence: \n",
            " ['a', 'mom', 'and', 'her', 'daughter', 'are', 'enjoying', 'a', 'a', 'day', '.', '<eos>']\n",
            "[Epoch 10 / 50]\n",
            "=> Saving checkpoint\n",
            "Translated example sentence: \n",
            " ['a', 'mother', 'and', 'her', 'daughter', 'are', 'enjoying', 'a', 'day', 'in', 'the', 'park', '.', '<eos>']\n",
            "[Epoch 11 / 50]\n",
            "=> Saving checkpoint\n",
            "Translated example sentence: \n",
            " ['a', 'mother', 'and', 'her', 'daughter', 'enjoying', 'a', 'day', 'at', 'the', 'day', '.', '<eos>']\n",
            "[Epoch 12 / 50]\n",
            "=> Saving checkpoint\n",
            "Translated example sentence: \n",
            " ['a', 'mother', 'and', 'her', 'son', 'enjoying', 'a', 'day', 'at', 'a', 'day', '.', '<eos>']\n",
            "[Epoch 13 / 50]\n",
            "=> Saving checkpoint\n",
            "Translated example sentence: \n",
            " ['a', 'mother', 'and', 'her', 'daughter', 'enjoying', 'a', 'day', 'day', '.', '<eos>']\n",
            "[Epoch 14 / 50]\n",
            "=> Saving checkpoint\n",
            "Translated example sentence: \n",
            " ['a', 'mother', 'and', 'her', 'daughter', 'enjoying', 'a', 'day', 'at', 'the', 'day', '.', '<eos>']\n",
            "[Epoch 15 / 50]\n",
            "=> Saving checkpoint\n",
            "Translated example sentence: \n",
            " ['a', 'mother', 'and', 'her', 'son', 'enjoying', 'a', 'day', 'at', 'a', 'day', '.', '<eos>']\n",
            "[Epoch 16 / 50]\n",
            "=> Saving checkpoint\n",
            "Translated example sentence: \n",
            " ['a', 'mother', 'and', 'her', 'son', 'enjoying', 'a', 'day', 'day', 'in', 'the', 'winter', '.', '<eos>']\n",
            "[Epoch 17 / 50]\n",
            "=> Saving checkpoint\n",
            "Translated example sentence: \n",
            " ['a', 'mother', 'and', 'her', 'son', 'enjoying', 'a', 'day', 'day', 'outside', 'a', 'public', 'day', '.', '<eos>']\n",
            "[Epoch 18 / 50]\n",
            "=> Saving checkpoint\n",
            "Translated example sentence: \n",
            " ['a', 'mother', 'and', 'her', 'son', 'enjoying', 'a', 'day', 'day', 'day', '.', '<eos>']\n",
            "[Epoch 19 / 50]\n",
            "=> Saving checkpoint\n",
            "Translated example sentence: \n",
            " ['a', 'mother', 'and', 'her', 'daughter', 'enjoying', 'a', 'day', 'day', 'in', 'the', 'winter', '.', '<eos>']\n",
            "[Epoch 20 / 50]\n",
            "=> Saving checkpoint\n",
            "Translated example sentence: \n",
            " ['a', 'mother', 'and', 'her', 'son', 'enjoying', 'a', 'day', 'day', 'in', 'the', 'day', '.', '<eos>']\n",
            "[Epoch 21 / 50]\n",
            "=> Saving checkpoint\n",
            "Translated example sentence: \n",
            " ['a', 'mom', 'and', 'her', 'son', 'enjoying', 'a', 'day', 'day', 'outside', 'the', 'day', '.', '<eos>']\n",
            "[Epoch 22 / 50]\n",
            "=> Saving checkpoint\n",
            "Translated example sentence: \n",
            " ['a', 'mother', 'and', 'her', 'daughter', 'enjoying', 'a', 'day', 'day', 'in', 'the', 'day', '.', '<eos>']\n",
            "[Epoch 23 / 50]\n",
            "=> Saving checkpoint\n",
            "Translated example sentence: \n",
            " ['a', 'mother', 'and', 'her', 'son', 'enjoying', 'a', 'day', 'at', 'the', 'day', '.', '<eos>']\n",
            "[Epoch 24 / 50]\n",
            "=> Saving checkpoint\n",
            "Translated example sentence: \n",
            " ['a', 'mom', 'and', 'her', 'son', 'enjoying', 'a', 'day', 'day', 'in', 'the', 'evening', '.', '<eos>']\n",
            "[Epoch 25 / 50]\n",
            "=> Saving checkpoint\n",
            "Translated example sentence: \n",
            " ['a', 'mom', 'and', 'her', 'daughter', 'enjoying', 'a', 'day', 'in', 'the', 'day', '.', '<eos>']\n",
            "[Epoch 26 / 50]\n",
            "=> Saving checkpoint\n",
            "Translated example sentence: \n",
            " ['a', 'mother', 'and', 'her', 'son', 'enjoying', 'a', 'day', 'day', 'in', 'the', 'rain', '.', '<eos>']\n",
            "[Epoch 27 / 50]\n",
            "=> Saving checkpoint\n",
            "Translated example sentence: \n",
            " ['a', 'mother', 'and', 'her', 'son', 'enjoying', 'a', 'day', 'day', 'in', 'the', 'public', '.', '<eos>']\n",
            "[Epoch 28 / 50]\n",
            "=> Saving checkpoint\n",
            "Translated example sentence: \n",
            " ['a', 'mom', 'and', 'her', 'son', 'enjoying', 'a', 'day', 'in', 'the', 'the', 'courtyard', '.', '<eos>']\n",
            "[Epoch 29 / 50]\n",
            "=> Saving checkpoint\n",
            "Translated example sentence: \n",
            " ['a', 'mom', 'and', 'her', 'son', 'enjoying', 'a', 'day', 'in', 'the', 'park', '.', '<eos>']\n",
            "[Epoch 30 / 50]\n",
            "=> Saving checkpoint\n",
            "Translated example sentence: \n",
            " ['a', 'mother', 'and', 'her', 'daughter', 'enjoying', 'a', 'day', 'at', 'the', 'night', '.', '<eos>']\n",
            "[Epoch 31 / 50]\n",
            "=> Saving checkpoint\n",
            "Translated example sentence: \n",
            " ['a', 'mother', 'and', 'her', 'son', 'enjoying', 'a', 'day', 'in', 'the', 'the', 'rain', '.', '<eos>']\n",
            "[Epoch 32 / 50]\n",
            "=> Saving checkpoint\n",
            "Translated example sentence: \n",
            " ['a', 'mother', 'and', 'her', 'daughter', 'enjoying', 'a', 'day', 'in', 'the', 'public', '.', '<eos>']\n",
            "[Epoch 33 / 50]\n",
            "=> Saving checkpoint\n",
            "Translated example sentence: \n",
            " ['a', 'mother', 'and', 'her', 'son', 'enjoying', 'a', 'day', 'in', 'the', 'local', '.', '<eos>']\n",
            "[Epoch 34 / 50]\n",
            "=> Saving checkpoint\n",
            "Translated example sentence: \n",
            " ['a', 'mother', 'and', 'her', 'son', 'enjoying', 'a', 'day', 'in', 'the', 'night', '.', '<eos>']\n",
            "[Epoch 35 / 50]\n",
            "=> Saving checkpoint\n",
            "Translated example sentence: \n",
            " ['a', 'mother', 'and', 'her', 'son', 'enjoying', 'a', 'day', 'in', 'the', 'rain', '.', '<eos>']\n",
            "[Epoch 36 / 50]\n",
            "=> Saving checkpoint\n",
            "Translated example sentence: \n",
            " ['a', 'mother', 'and', 'her', 'son', 'enjoying', 'a', 'day', 'at', 'the', 'night', '.', '<eos>']\n",
            "[Epoch 37 / 50]\n",
            "=> Saving checkpoint\n",
            "Translated example sentence: \n",
            " ['a', 'mother', 'and', 'her', 'son', 'enjoying', 'a', 'day', 'in', 'the', 'day', '.', '<eos>']\n",
            "[Epoch 38 / 50]\n",
            "=> Saving checkpoint\n",
            "Translated example sentence: \n",
            " ['a', 'mother', 'and', 'her', 'son', 'enjoying', 'a', 'day', 'in', 'the', 'rain', '.', '<eos>']\n",
            "[Epoch 39 / 50]\n",
            "=> Saving checkpoint\n",
            "Translated example sentence: \n",
            " ['a', 'mother', 'and', 'her', 'son', 'enjoying', 'a', 'day', 'in', 'the', 'rain', '.', '<eos>']\n",
            "[Epoch 40 / 50]\n",
            "=> Saving checkpoint\n",
            "Translated example sentence: \n",
            " ['a', 'mother', 'and', 'her', 'son', 'enjoying', 'a', 'day', 'in', 'the', 'rain', '.', '<eos>']\n",
            "[Epoch 41 / 50]\n",
            "=> Saving checkpoint\n",
            "Translated example sentence: \n",
            " ['a', 'mom', 'and', 'her', 'son', 'enjoying', 'a', 'stroll', 'in', 'the', 'local', 'park', '.', '<eos>']\n",
            "[Epoch 42 / 50]\n",
            "=> Saving checkpoint\n",
            "Translated example sentence: \n",
            " ['a', 'mom', 'and', 'her', 'son', 'enjoying', 'a', 'day', 'in', 'the', 'outdoor', 'day', '.', '<eos>']\n",
            "[Epoch 43 / 50]\n",
            "=> Saving checkpoint\n",
            "Translated example sentence: \n",
            " ['a', 'mom', 'and', 'her', 'son', 'enjoying', 'a', 'day', 'at', 'the', 'day', '.', '<eos>']\n",
            "[Epoch 44 / 50]\n",
            "=> Saving checkpoint\n",
            "Translated example sentence: \n",
            " ['a', 'mom', 'and', 'her', 'daughter', 'enjoying', 'a', 'day', 'under', 'the', 'day', '.', '<eos>']\n",
            "[Epoch 45 / 50]\n",
            "=> Saving checkpoint\n",
            "Translated example sentence: \n",
            " ['a', 'mom', 'and', 'her', 'son', 'enjoying', 'a', 'day', 'in', 'the', 'shade', '.', '<eos>']\n",
            "[Epoch 46 / 50]\n",
            "=> Saving checkpoint\n",
            "Translated example sentence: \n",
            " ['a', 'mom', 'and', 'her', 'son', 'enjoying', 'a', 'day', 'at', 'the', 'outdoor', 'park', '.', '<eos>']\n",
            "[Epoch 47 / 50]\n",
            "=> Saving checkpoint\n",
            "Translated example sentence: \n",
            " ['a', 'mother', 'and', 'her', 'son', 'enjoying', 'a', 'day', 'at', 'the', 'night', '.', '<eos>']\n",
            "[Epoch 48 / 50]\n",
            "=> Saving checkpoint\n",
            "Translated example sentence: \n",
            " ['a', 'mom', 'and', 'her', 'son', 'take', 'a', 'day', 'at', 'the', 'local', 'day', '.', '<eos>']\n",
            "[Epoch 49 / 50]\n",
            "=> Saving checkpoint\n",
            "Translated example sentence: \n",
            " ['a', 'mother', 'and', 'her', 'son', 'enjoying', 'a', 'book', 'at', 'the', 'local', 'day', '.', '<eos>']\n",
            "Bleu score 20.01\n",
            "00:39:40.13\n"
          ],
          "name": "stdout"
        }
      ]
    },
    {
      "cell_type": "markdown",
      "metadata": {
        "id": "SaQRHU7JPzZy"
      },
      "source": [
        "# Implementing Seq2Seq LSTM with attention"
      ]
    },
    {
      "cell_type": "code",
      "metadata": {
        "id": "EOKoRVq0QFwU"
      },
      "source": [
        "class Encoder(nn.Module):\n",
        "    def __init__(self, input_size, embedding_size, hidden_size, num_layers, p):\n",
        "        super(Encoder, self).__init__()\n",
        "        self.hidden_size = hidden_size\n",
        "        self.num_layers = num_layers\n",
        "\n",
        "        self.embedding = nn.Embedding(input_size, embedding_size)\n",
        "        self.rnn = nn.LSTM(embedding_size, hidden_size, num_layers, bidirectional=True)\n",
        "\n",
        "        self.fc_hidden = nn.Linear(hidden_size * 2, hidden_size)\n",
        "        self.fc_cell = nn.Linear(hidden_size * 2, hidden_size)\n",
        "        self.dropout = nn.Dropout(p)\n",
        "\n",
        "    def forward(self, x):\n",
        "        embedding = self.dropout(self.embedding(x))\n",
        "        encoder_states, (hidden, cell) = self.rnn(embedding)\n",
        "        hidden = self.fc_hidden(torch.cat((hidden[0:1], hidden[1:2]), dim=2))\n",
        "        cell = self.fc_cell(torch.cat((cell[0:1], cell[1:2]), dim=2))\n",
        "\n",
        "        return encoder_states, hidden, cell\n",
        "\n"
      ],
      "execution_count": null,
      "outputs": []
    },
    {
      "cell_type": "code",
      "metadata": {
        "id": "Qle4SfnFQFyC"
      },
      "source": [
        "class Decoder(nn.Module):\n",
        "    def __init__(\n",
        "        self, input_size, embedding_size, hidden_size, output_size, num_layers, p\n",
        "    ):\n",
        "        super(Decoder, self).__init__()\n",
        "        self.hidden_size = hidden_size\n",
        "        self.num_layers = num_layers\n",
        "\n",
        "        self.embedding = nn.Embedding(input_size, embedding_size)\n",
        "        self.rnn = nn.LSTM(hidden_size * 2 + embedding_size, hidden_size, num_layers)\n",
        "\n",
        "        self.energy = nn.Linear(hidden_size * 3, 1)\n",
        "        self.fc = nn.Linear(hidden_size, output_size)\n",
        "        self.dropout = nn.Dropout(p)\n",
        "        self.softmax = nn.Softmax(dim=0)\n",
        "        self.relu = nn.ReLU()\n",
        "\n",
        "    def forward(self, x, encoder_states, hidden, cell):\n",
        "        x = x.unsqueeze(0)\n",
        "        # x: (1, N) where N is the batch size\n",
        "\n",
        "        embedding = self.dropout(self.embedding(x))\n",
        "        # embedding shape: (1, N, embedding_size)\n",
        "\n",
        "        sequence_length = encoder_states.shape[0]\n",
        "        h_reshaped = hidden.repeat(sequence_length, 1, 1)\n",
        "        # h_reshaped: (seq_length, N, hidden_size*2)\n",
        "\n",
        "        energy = self.relu(self.energy(torch.cat((h_reshaped, encoder_states), dim=2)))\n",
        "        # energy: (seq_length, N, 1)\n",
        "\n",
        "        attention = self.softmax(energy)\n",
        "        # attention: (seq_length, N, 1)\n",
        "\n",
        "        # attention: (seq_length, N, 1), snk\n",
        "        # encoder_states: (seq_length, N, hidden_size*2), snl\n",
        "        # we want context_vector: (1, N, hidden_size*2), i.e knl\n",
        "        context_vector = torch.einsum(\"snk,snl->knl\", attention, encoder_states)\n",
        "\n",
        "        rnn_input = torch.cat((context_vector, embedding), dim=2)\n",
        "        # rnn_input: (1, N, hidden_size*2 + embedding_size)\n",
        "\n",
        "        outputs, (hidden, cell) = self.rnn(rnn_input, (hidden, cell))\n",
        "        # outputs shape: (1, N, hidden_size)\n",
        "\n",
        "        predictions = self.fc(outputs).squeeze(0)\n",
        "        # predictions: (N, hidden_size)\n",
        "\n",
        "        return predictions, hidden, cell\n"
      ],
      "execution_count": null,
      "outputs": []
    },
    {
      "cell_type": "code",
      "metadata": {
        "id": "nLmPyLMCQF07"
      },
      "source": [
        "class Seq2Seq(nn.Module):\n",
        "    def __init__(self, encoder, decoder):\n",
        "        super(Seq2Seq, self).__init__()\n",
        "        self.encoder = encoder\n",
        "        self.decoder = decoder\n",
        "\n",
        "    def forward(self, source, target, teacher_force_ratio=0.5):\n",
        "        batch_size = source.shape[1]\n",
        "        target_len = target.shape[0]\n",
        "        target_vocab_size = len(english.vocab)\n",
        "\n",
        "        outputs = torch.zeros(target_len, batch_size, target_vocab_size).to(device)\n",
        "        encoder_states, hidden, cell = self.encoder(source)\n",
        "\n",
        "        # First input will be <SOS> token\n",
        "        x = target[0]\n",
        "\n",
        "        for t in range(1, target_len):\n",
        "            # At every time step use encoder_states and update hidden, cell\n",
        "            output, hidden, cell = self.decoder(x, encoder_states, hidden, cell)\n",
        "\n",
        "            # Store prediction for current time step\n",
        "            outputs[t] = output\n",
        "\n",
        "            # Get the best word the Decoder predicted (index in the vocabulary)\n",
        "            best_guess = output.argmax(1)\n",
        "\n",
        "            # With probability of teacher_force_ratio we take the actual next word\n",
        "            # otherwise we take the word that the Decoder predicted it to be.\n",
        "            # Teacher Forcing is used so that the model gets used to seeing\n",
        "            # similar inputs at training and testing time, if teacher forcing is 1\n",
        "            # then inputs at test time might be completely different than what the\n",
        "            # network is used to. This was a long comment.\n",
        "            x = target[t] if random.random() < teacher_force_ratio else best_guess\n",
        "\n",
        "        return outputs\n"
      ],
      "execution_count": null,
      "outputs": []
    },
    {
      "cell_type": "code",
      "metadata": {
        "id": "emZckjBjQF2e"
      },
      "source": [
        "device = torch.device(\"cuda\" if torch.cuda.is_available() else \"cpu\")\n",
        "load_model = False\n",
        "save_model = True\n",
        "\n",
        "# Training hyperparameters\n",
        "num_epochs = 50\n",
        "learning_rate = 3e-4\n",
        "batch_size = 32\n",
        "\n",
        "# Model hyperparameters\n",
        "input_size_encoder = len(german.vocab)\n",
        "input_size_decoder = len(english.vocab)\n",
        "output_size = len(english.vocab)\n",
        "encoder_embedding_size = 300\n",
        "decoder_embedding_size = 300\n",
        "hidden_size = 1024\n",
        "num_layers = 1\n",
        "enc_dropout = 0.0\n",
        "dec_dropout = 0.0\n",
        "\n",
        "# Tensorboard to get nice loss plot\n",
        "writer = SummaryWriter(f\"runs/loss_plot\")\n",
        "step = 0\n"
      ],
      "execution_count": null,
      "outputs": []
    },
    {
      "cell_type": "code",
      "metadata": {
        "id": "HuVdMxJvQiHV"
      },
      "source": [
        "\n",
        "train_iterator, valid_iterator, test_iterator = BucketIterator.splits(\n",
        "    (train_data, valid_data, test_data),\n",
        "    batch_size=batch_size,\n",
        "    sort_within_batch=True,\n",
        "    sort_key=lambda x: len(x.src),\n",
        "    device=device,\n",
        ")\n",
        "\n",
        "encoder_net = Encoder(\n",
        "    input_size_encoder, encoder_embedding_size, hidden_size, num_layers, enc_dropout\n",
        ").to(device)\n",
        "\n",
        "decoder_net = Decoder(\n",
        "    input_size_decoder,\n",
        "    decoder_embedding_size,\n",
        "    hidden_size,\n",
        "    output_size,\n",
        "    num_layers,\n",
        "    dec_dropout,\n",
        ").to(device)\n"
      ],
      "execution_count": null,
      "outputs": []
    },
    {
      "cell_type": "code",
      "metadata": {
        "colab": {
          "base_uri": "https://localhost:8080/"
        },
        "id": "VsPbcP7YQsxL",
        "outputId": "1d355c7d-3f44-45ce-f60a-63f629e92261"
      },
      "source": [
        "start = time.time()\n",
        "model = Seq2Seq(encoder_net, decoder_net).to(device)\n",
        "optimizer = optim.Adam(model.parameters(), lr=learning_rate)\n",
        "\n",
        "pad_idx = english.vocab.stoi[\"<pad>\"]\n",
        "criterion = nn.CrossEntropyLoss(ignore_index=pad_idx)\n",
        "\n",
        "if load_model:\n",
        "    load_checkpoint(torch.load(\"my_checkpoint.pth.tar\"), model, optimizer)\n",
        "\n",
        "\n",
        "sentence = \"eine mutter und ihr kleiner sohn genießen einen schönen tag im freien.\"\n",
        "\n",
        "\n",
        "for epoch in range(num_epochs):\n",
        "    print(f\"[Epoch {epoch} / {num_epochs}]\")\n",
        "\n",
        "    if save_model:\n",
        "        checkpoint = {\n",
        "            \"state_dict\": model.state_dict(),\n",
        "            \"optimizer\": optimizer.state_dict(),\n",
        "        }\n",
        "        save_checkpoint(checkpoint)\n",
        "\n",
        "    model.eval()\n",
        "\n",
        "    translated_sentence = translate_sentence(\n",
        "        model, sentence, german, english, device, max_length=50\n",
        "    )\n",
        "\n",
        "    print(f\"Translated example sentence: \\n {translated_sentence}\")\n",
        "\n",
        "    model.train()\n",
        "\n",
        "    for batch_idx, batch in enumerate(train_iterator):\n",
        "        # Get input and targets and get to cuda\n",
        "        inp_data = batch.src.to(device)\n",
        "        target = batch.trg.to(device)\n",
        "\n",
        "        # Forward prop\n",
        "        output = model(inp_data, target)\n",
        "\n",
        "        # Output is of shape (trg_len, batch_size, output_dim) but Cross Entropy Loss\n",
        "        # doesn't take input in that form. For example if we have MNIST we want to have\n",
        "        # output to be: (N, 10) and targets just (N). Here we can view it in a similar\n",
        "        # way that we have output_words * batch_size that we want to send in into\n",
        "        # our cost function, so we need to do some reshapin. While we're at it\n",
        "        # Let's also remove the start token while we're at it\n",
        "        output = output[1:].reshape(-1, output.shape[2])\n",
        "        target = target[1:].reshape(-1)\n",
        "\n",
        "        optimizer.zero_grad()\n",
        "        loss = criterion(output, target)\n",
        "\n",
        "        # Back prop\n",
        "        loss.backward()\n",
        "\n",
        "        # Clip to avoid exploding gradient issues, makes sure grads are\n",
        "        # within a healthy range\n",
        "        torch.nn.utils.clip_grad_norm_(model.parameters(), max_norm=1)\n",
        "\n",
        "        # Gradient descent step\n",
        "        optimizer.step()\n",
        "\n",
        "        # Plot to tensorboard\n",
        "        writer.add_scalar(\"Training loss\", loss, global_step=step)\n",
        "        step += 1\n",
        "\n",
        "# running on entire test data takes a while\n",
        "score = bleu(test_data[1:100], model, german, english, device)\n",
        "print(f\"Bleu score {score * 100:.2f}\")\n",
        "\n",
        "end = time.time()\n",
        "hours, rem = divmod(end-start, 3600)\n",
        "minutes, seconds = divmod(rem, 60)\n",
        "print(\"{:0>2}:{:0>2}:{:05.2f}\".format(int(hours),int(minutes),seconds))"
      ],
      "execution_count": null,
      "outputs": [
        {
          "output_type": "stream",
          "text": [
            "downloading training.tar.gz\n"
          ],
          "name": "stdout"
        },
        {
          "output_type": "stream",
          "text": [
            "training.tar.gz: 100%|██████████| 1.21M/1.21M [00:01<00:00, 969kB/s]\n"
          ],
          "name": "stderr"
        },
        {
          "output_type": "stream",
          "text": [
            "downloading validation.tar.gz\n"
          ],
          "name": "stdout"
        },
        {
          "output_type": "stream",
          "text": [
            "validation.tar.gz: 100%|██████████| 46.3k/46.3k [00:00<00:00, 274kB/s]\n"
          ],
          "name": "stderr"
        },
        {
          "output_type": "stream",
          "text": [
            "downloading mmt_task1_test2016.tar.gz\n"
          ],
          "name": "stdout"
        },
        {
          "output_type": "stream",
          "text": [
            "mmt_task1_test2016.tar.gz: 100%|██████████| 66.2k/66.2k [00:00<00:00, 268kB/s]\n"
          ],
          "name": "stderr"
        },
        {
          "output_type": "stream",
          "text": [
            "[Epoch 0 / 50]\n",
            "=> Saving checkpoint\n",
            "Translated example sentence: \n",
            " ['learning', 'learning', 'learning', 'bulls', 'vacuum', 'learning', 'learning', 'bulls', 'vacuum', 'learning', 'learning', 'bulls', 'vacuum', 'learning', 'learning', 'bulls', 'vacuum', 'learning', 'learning', 'bulls', 'vacuum', 'learning', 'learning', 'bulls', 'vacuum', 'learning', 'learning', 'bulls', 'vacuum', 'learning', 'learning', 'bulls', 'vacuum', 'learning', 'learning', 'bulls', 'vacuum', 'learning', 'learning', 'bulls', 'vacuum', 'learning', 'learning', 'bulls', 'vacuum', 'learning', 'learning', 'bulls', 'vacuum', 'learning']\n",
            "[Epoch 1 / 50]\n",
            "=> Saving checkpoint\n",
            "Translated example sentence: \n",
            " ['a', 'and', 'and', 'and', 'and', 'a', 'are', 'at', 'a', 'at', 'a', '.', '.', '<eos>']\n",
            "[Epoch 2 / 50]\n",
            "=> Saving checkpoint\n",
            "Translated example sentence: \n",
            " ['a', 'mother', 'and', 'her', 'daughter', 'are', 'a', 'a', 'at', 'the', '.', '.', '<eos>']\n",
            "[Epoch 3 / 50]\n",
            "=> Saving checkpoint\n",
            "Translated example sentence: \n",
            " ['a', 'mother', 'and', 'her', 'daughter', 'are', 'a', 'a', 'outdoor', 'outdoor', 'day', '.', '<eos>']\n",
            "[Epoch 4 / 50]\n",
            "=> Saving checkpoint\n",
            "Translated example sentence: \n",
            " ['a', 'mother', 'and', 'her', 'daughter', 'enjoying', 'a', 'outdoor', 'outdoor', 'day', '.', '<eos>']\n",
            "[Epoch 5 / 50]\n",
            "=> Saving checkpoint\n",
            "Translated example sentence: \n",
            " ['a', 'mother', 'and', 'her', 'daughter', 'enjoying', 'her', 'small', 'day', '.', '<eos>']\n",
            "[Epoch 6 / 50]\n",
            "=> Saving checkpoint\n",
            "Translated example sentence: \n",
            " ['a', 'mother', 'and', 'her', 'daughter', 'enjoying', 'their', 'day', 'outside', '.', '<eos>']\n",
            "[Epoch 7 / 50]\n",
            "=> Saving checkpoint\n",
            "Translated example sentence: \n",
            " ['a', 'mother', 'and', 'her', 'son', 'enjoying', 'an', 'outdoor', 'day', 'day', '.', '<eos>']\n",
            "[Epoch 8 / 50]\n",
            "=> Saving checkpoint\n",
            "Translated example sentence: \n",
            " ['a', 'mother', 'and', 'her', 'daughter', 'enjoying', 'their', 'day', 'day', '.', '<eos>']\n",
            "[Epoch 9 / 50]\n",
            "=> Saving checkpoint\n",
            "Translated example sentence: \n",
            " ['a', 'mom', 'and', 'her', 'daughter', 'enjoying', 'their', 'day', 'day', '.', '<eos>']\n",
            "[Epoch 10 / 50]\n",
            "=> Saving checkpoint\n",
            "Translated example sentence: \n",
            " ['a', 'mother', 'and', 'her', 'daughter', 'happily', 'enjoying', 'a', 'nice', 'day', '.', '<eos>']\n",
            "[Epoch 11 / 50]\n",
            "=> Saving checkpoint\n",
            "Translated example sentence: \n",
            " ['a', 'mother', 'and', 'her', 'daughter', 'enjoying', 'themselves', 'a', 'a', 'nice', 'day', '.', '<eos>']\n",
            "[Epoch 12 / 50]\n",
            "=> Saving checkpoint\n",
            "Translated example sentence: \n",
            " ['a', 'mother', 'and', 'her', 'daughter', 'enjoying', 'their', 'day', 'outside', '.', '<eos>']\n",
            "[Epoch 13 / 50]\n",
            "=> Saving checkpoint\n",
            "Translated example sentence: \n",
            " ['a', 'mother', 'and', 'her', 'daughter', 'enjoying', 'themselves', 'after', 'a', 'day', 'day', '.', '<eos>']\n",
            "[Epoch 14 / 50]\n",
            "=> Saving checkpoint\n",
            "Translated example sentence: \n",
            " ['a', 'mom', 'and', 'her', 'daughter', 'enjoying', 'themselves', 'day', 'in', 'a', 'public', 'day', '.', '<eos>']\n",
            "[Epoch 15 / 50]\n",
            "=> Saving checkpoint\n",
            "Translated example sentence: \n",
            " ['a', 'mom', 'and', 'her', 'daughter', 'enjoying', 'their', 'day', 'day', 'in', 'a', 'day', '.', '<eos>']\n",
            "[Epoch 16 / 50]\n",
            "=> Saving checkpoint\n",
            "Translated example sentence: \n",
            " ['a', 'mother', 'and', 'her', 'daughter', 'enjoying', 'themselves', 'day', 'in', 'an', 'outdoor', 'park', '.', '<eos>']\n",
            "[Epoch 17 / 50]\n",
            "=> Saving checkpoint\n",
            "Translated example sentence: \n",
            " ['a', 'mother', 'and', 'her', 'daughter', 'enjoying', 'themselves', 'a', 'nice', 'day', '.', '<eos>']\n",
            "[Epoch 18 / 50]\n",
            "=> Saving checkpoint\n",
            "Translated example sentence: \n",
            " ['a', 'mom', 'and', 'her', 'daughter', 'enjoying', 'themselves', 'after', 'a', 'day', 'day', '.', '<eos>']\n",
            "[Epoch 19 / 50]\n",
            "=> Saving checkpoint\n",
            "Translated example sentence: \n",
            " ['a', 'mother', 'and', 'her', 'daughter', 'enjoying', 'themselves', 'after', 'a', 'nice', 'day', '.', '<eos>']\n",
            "[Epoch 20 / 50]\n",
            "=> Saving checkpoint\n",
            "Translated example sentence: \n",
            " ['a', 'mother', 'and', 'her', 'daughter', 'enjoying', 'themselves', 'after', 'a', 'nice', 'day', '.', '<eos>']\n",
            "[Epoch 21 / 50]\n",
            "=> Saving checkpoint\n",
            "Translated example sentence: \n",
            " ['a', 'mother', 'and', 'her', 'daughter', 'enjoying', 'themselves', 'day', 'a', 'nice', 'day', '.', '<eos>']\n",
            "[Epoch 22 / 50]\n",
            "=> Saving checkpoint\n",
            "Translated example sentence: \n",
            " ['a', 'mother', 'and', 'her', 'daughter', 'enjoying', 'themselves', 'day', 'down', 'the', 'day', '.', '<eos>']\n",
            "[Epoch 23 / 50]\n",
            "=> Saving checkpoint\n",
            "Translated example sentence: \n",
            " ['a', 'mother', 'and', 'her', 'daughter', 'enjoying', 'themselves', 'after', 'a', 'day', 'day', '.', '<eos>']\n",
            "[Epoch 24 / 50]\n",
            "=> Saving checkpoint\n",
            "Translated example sentence: \n",
            " ['a', 'mother', 'and', 'her', 'daughter', 'enjoying', 'themselves', 'after', 'a', 'day', 'day', '.', '<eos>']\n",
            "[Epoch 25 / 50]\n",
            "=> Saving checkpoint\n",
            "Translated example sentence: \n",
            " ['a', 'mother', 'and', 'her', 'daughter', 'walk', 'together', 'during', 'a', 'public', 'day', '.', '<eos>']\n",
            "[Epoch 26 / 50]\n",
            "=> Saving checkpoint\n",
            "Translated example sentence: \n",
            " ['a', 'mom', 'and', 'her', 'daughter', 'enjoying', 'their', 'day', 'at', 'night', '.', '<eos>']\n",
            "[Epoch 27 / 50]\n",
            "=> Saving checkpoint\n",
            "Translated example sentence: \n",
            " ['a', 'mother', 'and', 'her', 'daughter', 'happily', 'after', 'themselves', 'on', 'a', 'day', '.', '<eos>']\n",
            "[Epoch 28 / 50]\n",
            "=> Saving checkpoint\n",
            "Translated example sentence: \n",
            " ['a', 'mother', 'and', 'her', 'daughter', 'enjoying', 'themselves', 'through', 'a', 'outdoor', 'park', '.', '<eos>']\n",
            "[Epoch 29 / 50]\n",
            "=> Saving checkpoint\n",
            "Translated example sentence: \n",
            " ['a', 'mother', 'and', 'her', 'daughter', 'enjoying', 'themselves', 'after', 'a', 'day', '.', '<eos>']\n",
            "[Epoch 30 / 50]\n",
            "=> Saving checkpoint\n",
            "Translated example sentence: \n",
            " ['a', 'mom', 'and', 'her', 'son', 'enjoying', 'themselves', 'after', 'a', 'beautiful', 'day', '.', '<eos>']\n",
            "[Epoch 31 / 50]\n",
            "=> Saving checkpoint\n",
            "Translated example sentence: \n",
            " ['a', 'mother', 'and', 'her', 'son', 'enjoying', 'their', 'day', 'dinner', '.', '<eos>']\n",
            "[Epoch 32 / 50]\n",
            "=> Saving checkpoint\n",
            "Translated example sentence: \n",
            " ['a', 'mother', 'and', 'her', 'daughter', 'walking', 'outdoors', 'after', 'a', 'nice', 'day', '.', '<eos>']\n",
            "[Epoch 33 / 50]\n",
            "=> Saving checkpoint\n",
            "Translated example sentence: \n",
            " ['a', 'mother', 'and', 'her', 'daughter', 'enjoying', 'themselves', 'after', 'a', 'nice', 'day', '.', '<eos>']\n",
            "[Epoch 34 / 50]\n",
            "=> Saving checkpoint\n",
            "Translated example sentence: \n",
            " ['a', 'mom', 'and', 'her', 'daughter', 'enjoying', 'themselves', 'outdoors', 'on', 'a', 'beautiful', 'day', '.', '<eos>']\n",
            "[Epoch 35 / 50]\n",
            "=> Saving checkpoint\n",
            "Translated example sentence: \n",
            " ['a', 'mother', 'and', 'her', 'daughter', 'enjoying', 'themselves', 'outdoors', 'in', 'a', 'public', 'outdoor', '.', '<eos>']\n",
            "[Epoch 36 / 50]\n",
            "=> Saving checkpoint\n",
            "Translated example sentence: \n",
            " ['a', 'mother', 'and', 'her', 'daughter', 'lay', 'outdoors', 'in', 'a', 'public', 'outdoor', 'market', '.', '<eos>']\n",
            "[Epoch 37 / 50]\n",
            "=> Saving checkpoint\n",
            "Translated example sentence: \n",
            " ['a', 'mother', 'and', 'her', 'son', 'enjoying', 'an', 'outdoor', 'day', 'vendor', '.', '<eos>']\n",
            "[Epoch 38 / 50]\n",
            "=> Saving checkpoint\n",
            "Translated example sentence: \n",
            " ['a', 'mother', 'and', 'her', 'husband', 'enjoying', 'an', 'outdoor', 'day', '.', '<eos>']\n",
            "[Epoch 39 / 50]\n",
            "=> Saving checkpoint\n",
            "Translated example sentence: \n",
            " ['a', 'mother', 'and', 'her', 'daughter', 'enjoying', 'themselves', 'after', 'a', 'public', 'day', '.', '<eos>']\n",
            "[Epoch 40 / 50]\n",
            "=> Saving checkpoint\n",
            "Translated example sentence: \n",
            " ['a', 'mother', 'and', 'her', 'son', 'enjoying', 'her', 'lunch', 'outdoors', '.', '<eos>']\n",
            "[Epoch 41 / 50]\n",
            "=> Saving checkpoint\n",
            "Translated example sentence: \n",
            " ['a', 'mother', 'and', 'her', 'daughter', 'are', 'enjoying', 'themselves', 'after', 'a', 'local', 'day', '.', '<eos>']\n",
            "[Epoch 42 / 50]\n",
            "=> Saving checkpoint\n",
            "Translated example sentence: \n",
            " ['a', 'mother', 'and', 'her', 'friends', ',', 'enjoying', 'themselves', 'day', '.', '<eos>']\n",
            "[Epoch 43 / 50]\n",
            "=> Saving checkpoint\n",
            "Translated example sentence: \n",
            " ['a', 'mother', 'and', 'her', 'daughter', 'enjoying', 'themselves', 'after', 'a', 'beautiful', 'day', '.', '<eos>']\n",
            "[Epoch 44 / 50]\n",
            "=> Saving checkpoint\n",
            "Translated example sentence: \n",
            " ['a', 'mom', 'and', 'her', 'friends', 'enjoying', 'themselves', 'day', 'in', 'a', 'public', 'day', '.', '<eos>']\n",
            "[Epoch 45 / 50]\n",
            "=> Saving checkpoint\n",
            "Translated example sentence: \n",
            " ['a', 'mother', 'and', 'her', 'daughter', 'walking', 'together', 'in', 'a', 'public', 'outdoor', 'market', '.', '<eos>']\n",
            "[Epoch 46 / 50]\n",
            "=> Saving checkpoint\n",
            "Translated example sentence: \n",
            " ['a', 'mom', 'and', 'her', 'friends', 'enjoying', 'themselves', 'after', 'a', 'day', '.', '<eos>']\n",
            "[Epoch 47 / 50]\n",
            "=> Saving checkpoint\n",
            "Translated example sentence: \n",
            " ['a', 'mother', 'and', 'her', 'son', 'enjoying', 'themselves', 'after', 'a', 'nice', 'day', '.', '<eos>']\n",
            "[Epoch 48 / 50]\n",
            "=> Saving checkpoint\n",
            "Translated example sentence: \n",
            " ['a', 'mother', 'and', 'her', 'daughter', 'enjoying', 'themselves', 'after', 'a', 'nice', 'day', '.', '<eos>']\n",
            "[Epoch 49 / 50]\n",
            "=> Saving checkpoint\n",
            "Translated example sentence: \n",
            " ['a', 'mom', 'and', 'her', 'daughter', 'enjoying', 'themselves', 'after', 'a', 'nice', 'day', '.', '<eos>']\n",
            "Bleu score 23.59\n",
            "01:24:45.57\n"
          ],
          "name": "stdout"
        }
      ]
    },
    {
      "cell_type": "markdown",
      "metadata": {
        "id": "KOajOsKFQ0FJ"
      },
      "source": [
        "# Implementing Transformers with Attention mechanism"
      ]
    },
    {
      "cell_type": "code",
      "metadata": {
        "id": "yg7sY2PVApEq"
      },
      "source": [
        "class Encoder(nn.Module):\n",
        "    def __init__(self, \n",
        "                 input_dim, \n",
        "                 hid_dim, \n",
        "                 n_layers, \n",
        "                 n_heads, \n",
        "                 pf_dim,\n",
        "                 dropout, \n",
        "                 device,\n",
        "                 max_length = 100):\n",
        "        super().__init__()\n",
        "\n",
        "        self.device = device\n",
        "        \n",
        "        self.tok_embedding = nn.Embedding(input_dim, hid_dim)\n",
        "        self.pos_embedding = nn.Embedding(max_length, hid_dim)\n",
        "        \n",
        "        self.layers = nn.ModuleList([EncoderLayer(hid_dim, \n",
        "                                                  n_heads, \n",
        "                                                  pf_dim,\n",
        "                                                  dropout, \n",
        "                                                  device) \n",
        "                                     for _ in range(n_layers)])\n",
        "        \n",
        "        self.dropout = nn.Dropout(dropout)\n",
        "        \n",
        "        self.scale = torch.sqrt(torch.FloatTensor([hid_dim])).to(device)\n",
        "        \n",
        "    def forward(self, src, src_mask):\n",
        "        \n",
        "        #src = [batch size, src len]\n",
        "        #src_mask = [batch size, 1, 1, src len]\n",
        "        \n",
        "        batch_size = src.shape[0]\n",
        "        src_len = src.shape[1]\n",
        "        \n",
        "        pos = torch.arange(0, src_len).unsqueeze(0).repeat(batch_size, 1).to(self.device)\n",
        "        \n",
        "        #pos = [batch size, src len]\n",
        "        \n",
        "        src = self.dropout((self.tok_embedding(src) * self.scale) + self.pos_embedding(pos))\n",
        "        \n",
        "        #src = [batch size, src len, hid dim]\n",
        "        \n",
        "        for layer in self.layers:\n",
        "            src = layer(src, src_mask)\n",
        "            \n",
        "        #src = [batch size, src len, hid dim]\n",
        "            \n",
        "        return src"
      ],
      "execution_count": null,
      "outputs": []
    },
    {
      "cell_type": "code",
      "metadata": {
        "id": "fjFXd6qYApEr"
      },
      "source": [
        "class EncoderLayer(nn.Module):\n",
        "    def __init__(self, \n",
        "                 hid_dim, \n",
        "                 n_heads, \n",
        "                 pf_dim,  \n",
        "                 dropout, \n",
        "                 device):\n",
        "        super().__init__()\n",
        "        \n",
        "        self.self_attn_layer_norm = nn.LayerNorm(hid_dim)\n",
        "        self.ff_layer_norm = nn.LayerNorm(hid_dim)\n",
        "        self.self_attention = MultiHeadAttentionLayer(hid_dim, n_heads, dropout, device)\n",
        "        self.positionwise_feedforward = PositionwiseFeedforwardLayer(hid_dim, \n",
        "                                                                     pf_dim, \n",
        "                                                                     dropout)\n",
        "        self.dropout = nn.Dropout(dropout)\n",
        "        \n",
        "    def forward(self, src, src_mask):\n",
        "        \n",
        "        #src = [batch size, src len, hid dim]\n",
        "        #src_mask = [batch size, 1, 1, src len] \n",
        "                \n",
        "        #self attention\n",
        "        _src, _ = self.self_attention(src, src, src, src_mask)\n",
        "        \n",
        "        #dropout, residual connection and layer norm\n",
        "        src = self.self_attn_layer_norm(src + self.dropout(_src))\n",
        "        \n",
        "        #src = [batch size, src len, hid dim]\n",
        "        \n",
        "        #positionwise feedforward\n",
        "        _src = self.positionwise_feedforward(src)\n",
        "        \n",
        "        #dropout, residual and layer norm\n",
        "        src = self.ff_layer_norm(src + self.dropout(_src))\n",
        "        \n",
        "        #src = [batch size, src len, hid dim]\n",
        "        \n",
        "        return src"
      ],
      "execution_count": null,
      "outputs": []
    },
    {
      "cell_type": "code",
      "metadata": {
        "id": "s3V7olOAApEs"
      },
      "source": [
        "class MultiHeadAttentionLayer(nn.Module):\n",
        "    def __init__(self, hid_dim, n_heads, dropout, device):\n",
        "        super().__init__()\n",
        "        \n",
        "        assert hid_dim % n_heads == 0\n",
        "        \n",
        "        self.hid_dim = hid_dim\n",
        "        self.n_heads = n_heads\n",
        "        self.head_dim = hid_dim // n_heads\n",
        "        \n",
        "        self.fc_q = nn.Linear(hid_dim, hid_dim)\n",
        "        self.fc_k = nn.Linear(hid_dim, hid_dim)\n",
        "        self.fc_v = nn.Linear(hid_dim, hid_dim)\n",
        "        \n",
        "        self.fc_o = nn.Linear(hid_dim, hid_dim)\n",
        "        \n",
        "        self.dropout = nn.Dropout(dropout)\n",
        "        \n",
        "        self.scale = torch.sqrt(torch.FloatTensor([self.head_dim])).to(device)\n",
        "        \n",
        "    def forward(self, query, key, value, mask = None):\n",
        "        \n",
        "        batch_size = query.shape[0]\n",
        "        \n",
        "        #query = [batch size, query len, hid dim]\n",
        "        #key = [batch size, key len, hid dim]\n",
        "        #value = [batch size, value len, hid dim]\n",
        "                \n",
        "        Q = self.fc_q(query)\n",
        "        K = self.fc_k(key)\n",
        "        V = self.fc_v(value)\n",
        "        \n",
        "        #Q = [batch size, query len, hid dim]\n",
        "        #K = [batch size, key len, hid dim]\n",
        "        #V = [batch size, value len, hid dim]\n",
        "                \n",
        "        Q = Q.view(batch_size, -1, self.n_heads, self.head_dim).permute(0, 2, 1, 3)\n",
        "        K = K.view(batch_size, -1, self.n_heads, self.head_dim).permute(0, 2, 1, 3)\n",
        "        V = V.view(batch_size, -1, self.n_heads, self.head_dim).permute(0, 2, 1, 3)\n",
        "        \n",
        "        #Q = [batch size, n heads, query len, head dim]\n",
        "        #K = [batch size, n heads, key len, head dim]\n",
        "        #V = [batch size, n heads, value len, head dim]\n",
        "                \n",
        "        energy = torch.matmul(Q, K.permute(0, 1, 3, 2)) / self.scale\n",
        "        \n",
        "        #energy = [batch size, n heads, query len, key len]\n",
        "        \n",
        "        if mask is not None:\n",
        "            energy = energy.masked_fill(mask == 0, -1e10)\n",
        "        \n",
        "        attention = torch.softmax(energy, dim = -1)\n",
        "                \n",
        "        #attention = [batch size, n heads, query len, key len]\n",
        "                \n",
        "        x = torch.matmul(self.dropout(attention), V)\n",
        "        \n",
        "        #x = [batch size, n heads, query len, head dim]\n",
        "        \n",
        "        x = x.permute(0, 2, 1, 3).contiguous()\n",
        "        \n",
        "        #x = [batch size, query len, n heads, head dim]\n",
        "        \n",
        "        x = x.view(batch_size, -1, self.hid_dim)\n",
        "        \n",
        "        #x = [batch size, query len, hid dim]\n",
        "        \n",
        "        x = self.fc_o(x)\n",
        "        \n",
        "        #x = [batch size, query len, hid dim]\n",
        "        \n",
        "        return x, attention"
      ],
      "execution_count": null,
      "outputs": []
    },
    {
      "cell_type": "code",
      "metadata": {
        "id": "9158rvASApEs"
      },
      "source": [
        "class PositionwiseFeedforwardLayer(nn.Module):\n",
        "    def __init__(self, hid_dim, pf_dim, dropout):\n",
        "        super().__init__()\n",
        "        \n",
        "        self.fc_1 = nn.Linear(hid_dim, pf_dim)\n",
        "        self.fc_2 = nn.Linear(pf_dim, hid_dim)\n",
        "        \n",
        "        self.dropout = nn.Dropout(dropout)\n",
        "        \n",
        "    def forward(self, x):\n",
        "        \n",
        "        #x = [batch size, seq len, hid dim]\n",
        "        \n",
        "        x = self.dropout(torch.relu(self.fc_1(x)))\n",
        "        \n",
        "        #x = [batch size, seq len, pf dim]\n",
        "        \n",
        "        x = self.fc_2(x)\n",
        "        \n",
        "        #x = [batch size, seq len, hid dim]\n",
        "        \n",
        "        return x"
      ],
      "execution_count": null,
      "outputs": []
    },
    {
      "cell_type": "code",
      "metadata": {
        "id": "XrvtEn3zApEt"
      },
      "source": [
        "class Decoder(nn.Module):\n",
        "    def __init__(self, \n",
        "                 output_dim, \n",
        "                 hid_dim, \n",
        "                 n_layers, \n",
        "                 n_heads, \n",
        "                 pf_dim, \n",
        "                 dropout, \n",
        "                 device,\n",
        "                 max_length = 100):\n",
        "        super().__init__()\n",
        "        \n",
        "        self.device = device\n",
        "        \n",
        "        self.tok_embedding = nn.Embedding(output_dim, hid_dim)\n",
        "        self.pos_embedding = nn.Embedding(max_length, hid_dim)\n",
        "        \n",
        "        self.layers = nn.ModuleList([DecoderLayer(hid_dim, \n",
        "                                                  n_heads, \n",
        "                                                  pf_dim, \n",
        "                                                  dropout, \n",
        "                                                  device)\n",
        "                                     for _ in range(n_layers)])\n",
        "        \n",
        "        self.fc_out = nn.Linear(hid_dim, output_dim)\n",
        "        \n",
        "        self.dropout = nn.Dropout(dropout)\n",
        "        \n",
        "        self.scale = torch.sqrt(torch.FloatTensor([hid_dim])).to(device)\n",
        "        \n",
        "    def forward(self, trg, enc_src, trg_mask, src_mask):\n",
        "        \n",
        "        #trg = [batch size, trg len]\n",
        "        #enc_src = [batch size, src len, hid dim]\n",
        "        #trg_mask = [batch size, 1, trg len, trg len]\n",
        "        #src_mask = [batch size, 1, 1, src len]\n",
        "                \n",
        "        batch_size = trg.shape[0]\n",
        "        trg_len = trg.shape[1]\n",
        "        \n",
        "        pos = torch.arange(0, trg_len).unsqueeze(0).repeat(batch_size, 1).to(self.device)\n",
        "                            \n",
        "        #pos = [batch size, trg len]\n",
        "            \n",
        "        trg = self.dropout((self.tok_embedding(trg) * self.scale) + self.pos_embedding(pos))\n",
        "                \n",
        "        #trg = [batch size, trg len, hid dim]\n",
        "        \n",
        "        for layer in self.layers:\n",
        "            trg, attention = layer(trg, enc_src, trg_mask, src_mask)\n",
        "        \n",
        "        #trg = [batch size, trg len, hid dim]\n",
        "        #attention = [batch size, n heads, trg len, src len]\n",
        "        \n",
        "        output = self.fc_out(trg)\n",
        "        \n",
        "        #output = [batch size, trg len, output dim]\n",
        "            \n",
        "        return output, attention"
      ],
      "execution_count": null,
      "outputs": []
    },
    {
      "cell_type": "code",
      "metadata": {
        "id": "euB4oeShApEt"
      },
      "source": [
        "class DecoderLayer(nn.Module):\n",
        "    def __init__(self, \n",
        "                 hid_dim, \n",
        "                 n_heads, \n",
        "                 pf_dim, \n",
        "                 dropout, \n",
        "                 device):\n",
        "        super().__init__()\n",
        "        \n",
        "        self.self_attn_layer_norm = nn.LayerNorm(hid_dim)\n",
        "        self.enc_attn_layer_norm = nn.LayerNorm(hid_dim)\n",
        "        self.ff_layer_norm = nn.LayerNorm(hid_dim)\n",
        "        self.self_attention = MultiHeadAttentionLayer(hid_dim, n_heads, dropout, device)\n",
        "        self.encoder_attention = MultiHeadAttentionLayer(hid_dim, n_heads, dropout, device)\n",
        "        self.positionwise_feedforward = PositionwiseFeedforwardLayer(hid_dim, \n",
        "                                                                     pf_dim, \n",
        "                                                                     dropout)\n",
        "        self.dropout = nn.Dropout(dropout)\n",
        "        \n",
        "    def forward(self, trg, enc_src, trg_mask, src_mask):\n",
        "        \n",
        "        #trg = [batch size, trg len, hid dim]\n",
        "        #enc_src = [batch size, src len, hid dim]\n",
        "        #trg_mask = [batch size, 1, trg len, trg len]\n",
        "        #src_mask = [batch size, 1, 1, src len]\n",
        "        \n",
        "        #self attention\n",
        "        _trg, _ = self.self_attention(trg, trg, trg, trg_mask)\n",
        "        \n",
        "        #dropout, residual connection and layer norm\n",
        "        trg = self.self_attn_layer_norm(trg + self.dropout(_trg))\n",
        "            \n",
        "        #trg = [batch size, trg len, hid dim]\n",
        "            \n",
        "        #encoder attention\n",
        "        _trg, attention = self.encoder_attention(trg, enc_src, enc_src, src_mask)\n",
        "        \n",
        "        #dropout, residual connection and layer norm\n",
        "        trg = self.enc_attn_layer_norm(trg + self.dropout(_trg))\n",
        "                    \n",
        "        #trg = [batch size, trg len, hid dim]\n",
        "        \n",
        "        #positionwise feedforward\n",
        "        _trg = self.positionwise_feedforward(trg)\n",
        "        \n",
        "        #dropout, residual and layer norm\n",
        "        trg = self.ff_layer_norm(trg + self.dropout(_trg))\n",
        "        \n",
        "        #trg = [batch size, trg len, hid dim]\n",
        "        #attention = [batch size, n heads, trg len, src len]\n",
        "        \n",
        "        return trg, attention"
      ],
      "execution_count": null,
      "outputs": []
    },
    {
      "cell_type": "code",
      "metadata": {
        "id": "ZncQX37_ApEt"
      },
      "source": [
        "class Seq2Seq(nn.Module):\n",
        "    def __init__(self, \n",
        "                 encoder, \n",
        "                 decoder, \n",
        "                 src_pad_idx, \n",
        "                 trg_pad_idx, \n",
        "                 device):\n",
        "        super().__init__()\n",
        "        \n",
        "        self.encoder = encoder\n",
        "        self.decoder = decoder\n",
        "        self.src_pad_idx = src_pad_idx\n",
        "        self.trg_pad_idx = trg_pad_idx\n",
        "        self.device = device\n",
        "        \n",
        "    def make_src_mask(self, src):\n",
        "        \n",
        "        #src = [batch size, src len]\n",
        "        \n",
        "        src_mask = (src != self.src_pad_idx).unsqueeze(1).unsqueeze(2)\n",
        "\n",
        "        #src_mask = [batch size, 1, 1, src len]\n",
        "\n",
        "        return src_mask\n",
        "    \n",
        "    def make_trg_mask(self, trg):\n",
        "        \n",
        "        #trg = [batch size, trg len]\n",
        "        \n",
        "        trg_pad_mask = (trg != self.trg_pad_idx).unsqueeze(1).unsqueeze(2)\n",
        "        \n",
        "        #trg_pad_mask = [batch size, 1, 1, trg len]\n",
        "        \n",
        "        trg_len = trg.shape[1]\n",
        "        \n",
        "        trg_sub_mask = torch.tril(torch.ones((trg_len, trg_len), device = self.device)).bool()\n",
        "        \n",
        "        #trg_sub_mask = [trg len, trg len]\n",
        "            \n",
        "        trg_mask = trg_pad_mask & trg_sub_mask\n",
        "        \n",
        "        #trg_mask = [batch size, 1, trg len, trg len]\n",
        "        \n",
        "        return trg_mask\n",
        "\n",
        "    def forward(self, src, trg):\n",
        "        \n",
        "        #src = [batch size, src len]\n",
        "        #trg = [batch size, trg len]\n",
        "                \n",
        "        src_mask = self.make_src_mask(src)\n",
        "        trg_mask = self.make_trg_mask(trg)\n",
        "        \n",
        "        #src_mask = [batch size, 1, 1, src len]\n",
        "        #trg_mask = [batch size, 1, trg len, trg len]\n",
        "        \n",
        "        enc_src = self.encoder(src, src_mask)\n",
        "        \n",
        "        #enc_src = [batch size, src len, hid dim]\n",
        "                \n",
        "        output, attention = self.decoder(trg, enc_src, trg_mask, src_mask)\n",
        "        \n",
        "        #output = [batch size, trg len, output dim]\n",
        "        #attention = [batch size, n heads, trg len, src len]\n",
        "        \n",
        "        return output, attention"
      ],
      "execution_count": null,
      "outputs": []
    },
    {
      "cell_type": "code",
      "metadata": {
        "id": "XP-Mk12BApEu"
      },
      "source": [
        "INPUT_DIM = len(SRC.vocab)\n",
        "OUTPUT_DIM = len(TRG.vocab)\n",
        "HID_DIM = 256\n",
        "ENC_LAYERS = 3\n",
        "DEC_LAYERS = 3\n",
        "ENC_HEADS = 8\n",
        "DEC_HEADS = 8\n",
        "ENC_PF_DIM = 512\n",
        "DEC_PF_DIM = 512\n",
        "ENC_DROPOUT = 0.1\n",
        "DEC_DROPOUT = 0.1\n",
        "\n",
        "enc = Encoder(INPUT_DIM, \n",
        "              HID_DIM, \n",
        "              ENC_LAYERS, \n",
        "              ENC_HEADS, \n",
        "              ENC_PF_DIM, \n",
        "              ENC_DROPOUT, \n",
        "              device)\n",
        "\n",
        "dec = Decoder(OUTPUT_DIM, \n",
        "              HID_DIM, \n",
        "              DEC_LAYERS, \n",
        "              DEC_HEADS, \n",
        "              DEC_PF_DIM, \n",
        "              DEC_DROPOUT, \n",
        "              device)"
      ],
      "execution_count": null,
      "outputs": []
    },
    {
      "cell_type": "code",
      "metadata": {
        "id": "ryAWhHetApEu"
      },
      "source": [
        "SRC_PAD_IDX = SRC.vocab.stoi[SRC.pad_token]\n",
        "TRG_PAD_IDX = TRG.vocab.stoi[TRG.pad_token]\n",
        "\n",
        "model = Seq2Seq(enc, dec, SRC_PAD_IDX, TRG_PAD_IDX, device).to(device)"
      ],
      "execution_count": null,
      "outputs": []
    },
    {
      "cell_type": "code",
      "metadata": {
        "id": "i6GpM7HVApEu",
        "outputId": "a3015e42-27a9-4fc2-be6e-6a82440e2640"
      },
      "source": [
        "def count_parameters(model):\n",
        "    return sum(p.numel() for p in model.parameters() if p.requires_grad)\n",
        "\n",
        "print(f'The model has {count_parameters(model):,} trainable parameters')"
      ],
      "execution_count": null,
      "outputs": [
        {
          "output_type": "stream",
          "text": [
            "The model has 9,038,341 trainable parameters\n"
          ],
          "name": "stdout"
        }
      ]
    },
    {
      "cell_type": "code",
      "metadata": {
        "id": "jgfnDENKApEv"
      },
      "source": [
        "def initialize_weights(m):\n",
        "    if hasattr(m, 'weight') and m.weight.dim() > 1:\n",
        "        nn.init.xavier_uniform_(m.weight.data)"
      ],
      "execution_count": null,
      "outputs": []
    },
    {
      "cell_type": "code",
      "metadata": {
        "id": "BXnp-6SHApEv"
      },
      "source": [
        "model.apply(initialize_weights);"
      ],
      "execution_count": null,
      "outputs": []
    },
    {
      "cell_type": "code",
      "metadata": {
        "id": "HyqR074ZApEv"
      },
      "source": [
        "LEARNING_RATE = 0.0005\n",
        "\n",
        "optimizer = torch.optim.Adam(model.parameters(), lr = LEARNING_RATE)\n",
        "#Defining loss function\n",
        "criterion = nn.CrossEntropyLoss(ignore_index = TRG_PAD_IDX)"
      ],
      "execution_count": null,
      "outputs": []
    },
    {
      "cell_type": "code",
      "metadata": {
        "id": "CV8B0rd0ApEw"
      },
      "source": [
        "def train(model, iterator, optimizer, criterion, clip):\n",
        "    \n",
        "    model.train()\n",
        "    \n",
        "    epoch_loss = 0\n",
        "    \n",
        "    for i, batch in enumerate(iterator):\n",
        "        \n",
        "        src = batch.src\n",
        "        trg = batch.trg\n",
        "        \n",
        "        optimizer.zero_grad()\n",
        "        \n",
        "        output, _ = model(src, trg[:,:-1])\n",
        "                \n",
        "        #output = [batch size, trg len - 1, output dim]\n",
        "        #trg = [batch size, trg len]\n",
        "            \n",
        "        output_dim = output.shape[-1]\n",
        "            \n",
        "        output = output.contiguous().view(-1, output_dim)\n",
        "        trg = trg[:,1:].contiguous().view(-1)\n",
        "                \n",
        "        #output = [batch size * trg len - 1, output dim]\n",
        "        #trg = [batch size * trg len - 1]\n",
        "            \n",
        "        loss = criterion(output, trg)\n",
        "        \n",
        "        loss.backward()\n",
        "        \n",
        "        torch.nn.utils.clip_grad_norm_(model.parameters(), clip)\n",
        "        \n",
        "        optimizer.step()\n",
        "        \n",
        "        epoch_loss += loss.item()\n",
        "        \n",
        "    return epoch_loss / len(iterator)"
      ],
      "execution_count": null,
      "outputs": []
    },
    {
      "cell_type": "code",
      "metadata": {
        "id": "5mI3Q0UkApEw"
      },
      "source": [
        "def evaluate(model, iterator, criterion):\n",
        "    \n",
        "    model.eval()\n",
        "    \n",
        "    epoch_loss = 0\n",
        "    \n",
        "    with torch.no_grad():\n",
        "    \n",
        "        for i, batch in enumerate(iterator):\n",
        "\n",
        "            src = batch.src\n",
        "            trg = batch.trg\n",
        "\n",
        "            output, _ = model(src, trg[:,:-1])\n",
        "            \n",
        "            #output = [batch size, trg len - 1, output dim]\n",
        "            #trg = [batch size, trg len]\n",
        "            \n",
        "            output_dim = output.shape[-1]\n",
        "            \n",
        "            output = output.contiguous().view(-1, output_dim)\n",
        "            trg = trg[:,1:].contiguous().view(-1)\n",
        "            \n",
        "            #output = [batch size * trg len - 1, output dim]\n",
        "            #trg = [batch size * trg len - 1]\n",
        "            \n",
        "            loss = criterion(output, trg)\n",
        "\n",
        "            epoch_loss += loss.item()\n",
        "        \n",
        "    return epoch_loss / len(iterator)"
      ],
      "execution_count": null,
      "outputs": []
    },
    {
      "cell_type": "code",
      "metadata": {
        "id": "n6FBdpBQApEw"
      },
      "source": [
        "def epoch_time(start_time, end_time):\n",
        "    elapsed_time = end_time - start_time\n",
        "    elapsed_mins = int(elapsed_time / 60)\n",
        "    elapsed_secs = int(elapsed_time - (elapsed_mins * 60))\n",
        "    return elapsed_mins, elapsed_secs"
      ],
      "execution_count": null,
      "outputs": []
    },
    {
      "cell_type": "code",
      "metadata": {
        "id": "6yHKnRfSApEw",
        "outputId": "a85f7826-64a7-42b2-c15e-9e2e7b29a825"
      },
      "source": [
        "N_EPOCHS = 10\n",
        "CLIP = 1\n",
        "\n",
        "best_valid_loss = float('inf')\n",
        "\n",
        "start1 = time.time()\n",
        "for epoch in range(N_EPOCHS):\n",
        "    \n",
        "    start_time = time.time()\n",
        "    \n",
        "    train_loss = train(model, train_iterator, optimizer, criterion, CLIP)\n",
        "    valid_loss = evaluate(model, valid_iterator, criterion)\n",
        "    \n",
        "    end_time = time.time()\n",
        "    \n",
        "    epoch_mins, epoch_secs = epoch_time(start_time, end_time)\n",
        "    \n",
        "    if valid_loss < best_valid_loss:\n",
        "        best_valid_loss = valid_loss\n",
        "        torch.save(model.state_dict(), 'tut6-model.pt')\n",
        "    \n",
        "    print(f'Epoch: {epoch+1:02} | Time: {epoch_mins}m {epoch_secs}s')\n",
        "    print(f'\\tTrain Loss: {train_loss:.3f} | Train PPL: {math.exp(train_loss):7.3f}')\n",
        "    print(f'\\t Val. Loss: {valid_loss:.3f} |  Val. PPL: {math.exp(valid_loss):7.3f}')\n",
        "\n",
        "end1 = time.time()\n",
        "hours, rem = divmod(end1-start1, 3600)\n",
        "minutes, seconds = divmod(rem, 60)\n",
        "print(\"{:0>2}:{:0>2}:{:05.2f}\".format(int(hours),int(minutes),seconds))"
      ],
      "execution_count": null,
      "outputs": [
        {
          "output_type": "stream",
          "text": [
            "/home/ben/miniconda3/envs/pytorch17/lib/python3.8/site-packages/torchtext-0.9.0a0+c38fd42-py3.8-linux-x86_64.egg/torchtext/data/batch.py:23: UserWarning: Batch class will be retired soon and moved to torchtext.legacy. Please see the most recent release notes for further information.\n",
            "  warnings.warn('{} class will be retired soon and moved to torchtext.legacy. Please see the most recent release notes for further information.'.format(self.__class__.__name__), UserWarning)\n"
          ],
          "name": "stderr"
        },
        {
          "output_type": "stream",
          "text": [
            "Epoch: 01 | Time: 0m 13s\n",
            "\tTrain Loss: 4.222 | Train PPL:  68.172\n",
            "\t Val. Loss: 3.021 |  Val. PPL:  20.516\n",
            "Epoch: 02 | Time: 0m 13s\n",
            "\tTrain Loss: 2.813 | Train PPL:  16.657\n",
            "\t Val. Loss: 2.289 |  Val. PPL:   9.866\n",
            "Epoch: 03 | Time: 0m 13s\n",
            "\tTrain Loss: 2.236 | Train PPL:   9.358\n",
            "\t Val. Loss: 1.981 |  Val. PPL:   7.252\n",
            "Epoch: 04 | Time: 0m 13s\n",
            "\tTrain Loss: 1.889 | Train PPL:   6.613\n",
            "\t Val. Loss: 1.812 |  Val. PPL:   6.123\n",
            "Epoch: 05 | Time: 0m 13s\n",
            "\tTrain Loss: 1.644 | Train PPL:   5.177\n",
            "\t Val. Loss: 1.712 |  Val. PPL:   5.538\n",
            "Epoch: 06 | Time: 0m 14s\n",
            "\tTrain Loss: 1.458 | Train PPL:   4.296\n",
            "\t Val. Loss: 1.649 |  Val. PPL:   5.201\n",
            "Epoch: 07 | Time: 0m 13s\n",
            "\tTrain Loss: 1.311 | Train PPL:   3.710\n",
            "\t Val. Loss: 1.624 |  Val. PPL:   5.072\n",
            "Epoch: 08 | Time: 0m 13s\n",
            "\tTrain Loss: 1.185 | Train PPL:   3.269\n",
            "\t Val. Loss: 1.628 |  Val. PPL:   5.095\n",
            "Epoch: 09 | Time: 0m 14s\n",
            "\tTrain Loss: 1.074 | Train PPL:   2.928\n",
            "\t Val. Loss: 1.613 |  Val. PPL:   5.016\n",
            "Epoch: 10 | Time: 0m 14s\n",
            "\tTrain Loss: 0.978 | Train PPL:   2.659\n",
            "\t Val. Loss: 1.629 |  Val. PPL:   5.098\n"
          ],
          "name": "stdout"
        }
      ]
    },
    {
      "cell_type": "code",
      "metadata": {
        "id": "8szo5McwApEx",
        "outputId": "24592b50-645a-4ead-9f79-53bf8eb6c72d"
      },
      "source": [
        "model.load_state_dict(torch.load('tut6-model.pt'))\n",
        "\n",
        "test_loss = evaluate(model, test_iterator, criterion)\n",
        "\n",
        "print(f'| Test Loss: {test_loss:.3f} | Test PPL: {math.exp(test_loss):7.3f} |')"
      ],
      "execution_count": null,
      "outputs": [
        {
          "output_type": "stream",
          "text": [
            "| Test Loss: 1.671 | Test PPL:   5.316 |\n"
          ],
          "name": "stdout"
        }
      ]
    },
    {
      "cell_type": "code",
      "metadata": {
        "id": "NHg4Ipx8ApEx"
      },
      "source": [
        "def translate_sentence(sentence, src_field, trg_field, model, device, max_len = 50):\n",
        "    \n",
        "    model.eval()\n",
        "        \n",
        "    if isinstance(sentence, str):\n",
        "        nlp = spacy.load('de_core_news_sm')\n",
        "        tokens = [token.text.lower() for token in nlp(sentence)]\n",
        "    else:\n",
        "        tokens = [token.lower() for token in sentence]\n",
        "\n",
        "    tokens = [src_field.init_token] + tokens + [src_field.eos_token]\n",
        "        \n",
        "    src_indexes = [src_field.vocab.stoi[token] for token in tokens]\n",
        "\n",
        "    src_tensor = torch.LongTensor(src_indexes).unsqueeze(0).to(device)\n",
        "    \n",
        "    src_mask = model.make_src_mask(src_tensor)\n",
        "    \n",
        "    with torch.no_grad():\n",
        "        enc_src = model.encoder(src_tensor, src_mask)\n",
        "\n",
        "    trg_indexes = [trg_field.vocab.stoi[trg_field.init_token]]\n",
        "\n",
        "    for i in range(max_len):\n",
        "\n",
        "        trg_tensor = torch.LongTensor(trg_indexes).unsqueeze(0).to(device)\n",
        "\n",
        "        trg_mask = model.make_trg_mask(trg_tensor)\n",
        "        \n",
        "        with torch.no_grad():\n",
        "            output, attention = model.decoder(trg_tensor, enc_src, trg_mask, src_mask)\n",
        "        \n",
        "        pred_token = output.argmax(2)[:,-1].item()\n",
        "        \n",
        "        trg_indexes.append(pred_token)\n",
        "\n",
        "        if pred_token == trg_field.vocab.stoi[trg_field.eos_token]:\n",
        "            break\n",
        "    \n",
        "    trg_tokens = [trg_field.vocab.itos[i] for i in trg_indexes]\n",
        "    \n",
        "    return trg_tokens[1:], attention"
      ],
      "execution_count": null,
      "outputs": []
    },
    {
      "cell_type": "code",
      "metadata": {
        "id": "EeL_kFi5ApEx"
      },
      "source": [
        "def display_attention(sentence, translation, attention, n_heads = 8, n_rows = 4, n_cols = 2):\n",
        "    \n",
        "    assert n_rows * n_cols == n_heads\n",
        "    \n",
        "    fig = plt.figure(figsize=(15,25))\n",
        "    \n",
        "    for i in range(n_heads):\n",
        "        \n",
        "        ax = fig.add_subplot(n_rows, n_cols, i+1)\n",
        "        \n",
        "        _attention = attention.squeeze(0)[i].cpu().detach().numpy()\n",
        "\n",
        "        cax = ax.matshow(_attention, cmap='bone')\n",
        "\n",
        "        ax.tick_params(labelsize=12)\n",
        "        ax.set_xticklabels(['']+['<sos>']+[t.lower() for t in sentence]+['<eos>'], \n",
        "                           rotation=45)\n",
        "        ax.set_yticklabels(['']+translation)\n",
        "\n",
        "        ax.xaxis.set_major_locator(ticker.MultipleLocator(1))\n",
        "        ax.yaxis.set_major_locator(ticker.MultipleLocator(1))\n",
        "\n",
        "    plt.show()\n",
        "    plt.close()"
      ],
      "execution_count": null,
      "outputs": []
    },
    {
      "cell_type": "code",
      "metadata": {
        "id": "3QagX56ZApEy",
        "outputId": "1002e83d-a6ad-433c-c951-83395e7d61c3"
      },
      "source": [
        "example_idx = 8\n",
        "\n",
        "src = vars(train_data.examples[example_idx])['src']\n",
        "trg = vars(train_data.examples[example_idx])['trg']\n",
        "\n",
        "print(f'src = {src}')\n",
        "print(f'trg = {trg}')"
      ],
      "execution_count": null,
      "outputs": [
        {
          "output_type": "stream",
          "text": [
            "src = ['eine', 'frau', 'mit', 'einer', 'großen', 'geldbörse', 'geht', 'an', 'einem', 'tor', 'vorbei', '.']\n",
            "trg = ['a', 'woman', 'with', 'a', 'large', 'purse', 'is', 'walking', 'by', 'a', 'gate', '.']\n"
          ],
          "name": "stdout"
        }
      ]
    },
    {
      "cell_type": "code",
      "metadata": {
        "id": "7reNCK_PApEy",
        "outputId": "d12e0f3d-bce5-4517-c890-367b74d397ae"
      },
      "source": [
        "translation, attention = translate_sentence(src, SRC, TRG, model, device)\n",
        "\n",
        "print(f'predicted trg = {translation}')"
      ],
      "execution_count": null,
      "outputs": [
        {
          "output_type": "stream",
          "text": [
            "predicted trg = ['a', 'woman', 'with', 'a', 'large', 'purse', 'walks', 'by', 'a', 'gate', '.', '<eos>']\n"
          ],
          "name": "stdout"
        }
      ]
    },
    {
      "cell_type": "code",
      "metadata": {
        "id": "pK4pBBB1ApEy",
        "outputId": "02049dad-75de-4ad3-c737-b5b7e250d904"
      },
      "source": [
        "display_attention(src, translation, attention)"
      ],
      "execution_count": null,
      "outputs": [
        {
          "output_type": "stream",
          "text": [
            "<ipython-input-30-8546ab0d7ba0>:16: UserWarning: FixedFormatter should only be used together with FixedLocator\n",
            "  ax.set_xticklabels(['']+['<sos>']+[t.lower() for t in sentence]+['<eos>'],\n",
            "<ipython-input-30-8546ab0d7ba0>:18: UserWarning: FixedFormatter should only be used together with FixedLocator\n",
            "  ax.set_yticklabels(['']+translation)\n"
          ],
          "name": "stderr"
        },
        {
          "output_type": "display_data",
          "data": {
            "image/png": "[encoded data removed]",
            "text/plain": [
              "<Figure size 1080x1800 with 8 Axes>"
            ]
          },
          "metadata": {
            "tags": [],
            "needs_background": "light"
          }
        }
      ]
    },
    {
      "cell_type": "code",
      "metadata": {
        "id": "6R6FkTIvApEz",
        "outputId": "322dc436-7911-4864-9390-35d5e82e0fa2"
      },
      "source": [
        "example_idx = 6\n",
        "\n",
        "src = vars(valid_data.examples[example_idx])['src']\n",
        "trg = vars(valid_data.examples[example_idx])['trg']\n",
        "\n",
        "print(f'src = {src}')\n",
        "print(f'trg = {trg}')"
      ],
      "execution_count": null,
      "outputs": [
        {
          "output_type": "stream",
          "text": [
            "src = ['ein', 'brauner', 'hund', 'rennt', 'dem', 'schwarzen', 'hund', 'hinterher', '.']\n",
            "trg = ['a', 'brown', 'dog', 'is', 'running', 'after', 'the', 'black', 'dog', '.']\n"
          ],
          "name": "stdout"
        }
      ]
    },
    {
      "cell_type": "code",
      "metadata": {
        "id": "MMIe33qaApEz",
        "outputId": "bad21664-f02c-4821-ac19-a9ffea11aad8"
      },
      "source": [
        "translation, attention = translate_sentence(src, SRC, TRG, model, device)\n",
        "\n",
        "print(f'predicted trg = {translation}')"
      ],
      "execution_count": null,
      "outputs": [
        {
          "output_type": "stream",
          "text": [
            "predicted trg = ['a', 'brown', 'dog', 'runs', 'after', 'the', 'black', 'dog', '.', '<eos>']\n"
          ],
          "name": "stdout"
        }
      ]
    },
    {
      "cell_type": "code",
      "metadata": {
        "id": "luqzFl8UApEz",
        "outputId": "076662b4-b53c-4835-d04f-919350533e81"
      },
      "source": [
        "display_attention(src, translation, attention)"
      ],
      "execution_count": null,
      "outputs": [
        {
          "output_type": "stream",
          "text": [
            "<ipython-input-30-8546ab0d7ba0>:16: UserWarning: FixedFormatter should only be used together with FixedLocator\n",
            "  ax.set_xticklabels(['']+['<sos>']+[t.lower() for t in sentence]+['<eos>'],\n",
            "<ipython-input-30-8546ab0d7ba0>:18: UserWarning: FixedFormatter should only be used together with FixedLocator\n",
            "  ax.set_yticklabels(['']+translation)\n"
          ],
          "name": "stderr"
        },
        {
          "output_type": "display_data",
          "data": {
            "image/png": "[encoded data removed]",
            "text/plain": [
              "<Figure size 1080x1800 with 8 Axes>"
            ]
          },
          "metadata": {
            "tags": [],
            "needs_background": "light"
          }
        }
      ]
    },
    {
      "cell_type": "code",
      "metadata": {
        "id": "w0OtI22UApE0",
        "outputId": "4f62458b-edf8-46d2-950c-fd51e9ab14a9"
      },
      "source": [
        "example_idx = 10\n",
        "\n",
        "src = vars(test_data.examples[example_idx])['src']\n",
        "trg = vars(test_data.examples[example_idx])['trg']\n",
        "\n",
        "print(f'src = {src}')\n",
        "print(f'trg = {trg}')"
      ],
      "execution_count": null,
      "outputs": [
        {
          "output_type": "stream",
          "text": [
            "src = ['eine', 'mutter', 'und', 'ihr', 'kleiner', 'sohn', 'genießen', 'einen', 'schönen', 'tag', 'im', 'freien', '.']\n",
            "trg = ['a', 'mother', 'and', 'her', 'young', 'song', 'enjoying', 'a', 'beautiful', 'day', 'outside', '.']\n"
          ],
          "name": "stdout"
        }
      ]
    },
    {
      "cell_type": "code",
      "metadata": {
        "id": "XNqJWY2-ApE0",
        "outputId": "37853f31-ea30-44cf-cf1e-caabd0d8143e"
      },
      "source": [
        "translation, attention = translate_sentence(src, SRC, TRG, model, device)\n",
        "\n",
        "print(f'predicted trg = {translation}')"
      ],
      "execution_count": null,
      "outputs": [
        {
          "output_type": "stream",
          "text": [
            "predicted trg = ['a', 'mother', 'and', 'her', 'young', 'son', 'enjoying', 'a', 'beautiful', 'day', 'outside', '.', '<eos>']\n"
          ],
          "name": "stdout"
        }
      ]
    },
    {
      "cell_type": "code",
      "metadata": {
        "id": "jWhxa2reApE0"
      },
      "source": [
        "display_attention(src, translation, attention)"
      ],
      "execution_count": null,
      "outputs": []
    },
    {
      "cell_type": "code",
      "metadata": {
        "id": "9SyLy0VlApE1"
      },
      "source": [
        "from torchtext.data.metrics import bleu_score\n",
        "\n",
        "def calculate_bleu(data, src_field, trg_field, model, device, max_len = 50):\n",
        "    trgs = []\n",
        "    pred_trgs = []    \n",
        "    for datum in data:\n",
        "        src = vars(datum)['src']\n",
        "        trg = vars(datum)['trg']\n",
        "        pred_trg, _ = translate_sentence(src, src_field, trg_field, model, device, max_len)\n",
        "        pred_trg = pred_trg[:-1]\n",
        "        \n",
        "        pred_trgs.append(pred_trg)\n",
        "        trgs.append([trg])\n",
        "        \n",
        "    return bleu_score(pred_trgs, trgs)"
      ],
      "execution_count": null,
      "outputs": []
    },
    {
      "cell_type": "code",
      "metadata": {
        "id": "ZIXxdf_9VVxw",
        "outputId": "645bb032-7557-425e-a78d-edc749b26b29"
      },
      "source": [
        "bleu_score = calculate_bleu(test_data, SRC, TRG, model, device)\n",
        "\n",
        "print(f'BLEU score = {bleu_score*100:.2f}')"
      ],
      "execution_count": null,
      "outputs": [
        {
          "output_type": "stream",
          "text": [
            "BLEU score = 36.52\n"
          ],
          "name": "stdout"
        }
      ]
    }
  ]
}